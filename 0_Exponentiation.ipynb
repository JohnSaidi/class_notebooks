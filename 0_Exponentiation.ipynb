{
 "cells": [
  {
   "cell_type": "markdown",
   "metadata": {
    "slideshow": {
     "slide_type": "slide"
    }
   },
   "source": [
    "# Setup\n",
    "- Install some basic Jupyter notebook environment, for Python 3. Easy in Linux. \n",
    "    - Consider Anaconda in Windows and Mac, though it uses a substatial amount of space.\n",
    "    - If you cannot, then you can still view the notebooks online through a link in the course.\n",
    "        - Notebooks will display mostly correctly as HTML (a few things do not)\n",
    "        - This is one of the reasons I like these for smaller examples\n",
    "- Install python-graphviz"
   ]
  },
  {
   "cell_type": "markdown",
   "metadata": {
    "slideshow": {
     "slide_type": "slide"
    }
   },
   "source": [
    "# Exponentiation Examples for different strategies\n",
    "## Purpose:\n",
    "1. To demonstrate different strategies for a relatively simple problem\n",
    "    - Not all strategies \"yield\" improvement over the Brute Force approach, and probably make them less efficient due to extra complexity (recursive calls, extra space, etc.)\n",
    "    - But an algorithm design strategy, even if ineffective, allows you to look at the problem differently and may reveal a better approach\n",
    "1. To get you used to basic Python Syntax, as most of you have not spent much or any time with it. This will be quite useful for me to generate additional examples where I don't think a C++ version is particularly helpful. Python is:\n",
    "    - \\+ Readable, typically easy to read for those with an imperative language background (C,C++,Java)\n",
    "    - \\+ Writable, easy to write\n",
    "        - \\+ white space sensitive: good for *readability*\n",
    "        - \\- white space sensitive: tends to be rough when coming from C-style languages (C, C++, Java) at first\n",
    "        - \\+ good, extensive libraries for many varied tasks\n",
    "            - used for deep learning libraries, data visualization (often in Jupyter notebooks), etc.\n",
    "            - also a very helpful tool for programming tasks, like manipulating folders, etc.\n",
    "    - \\+ has useful data structures *without including libraries* such as lists (__[like Java ArrayList, C++ vector](https://en.wikipedia.org/wiki/Dynamic_array)__), which are really interesting data structures in their own right and will likely be covered at some point, and **dict**ionaries (hash tables)\n",
    "1. To get you used to basic Jupyter notebook usage. This is a great way for me to share code/examples with you. __[(command cheat sheet)](https://www.edureka.co/blog/wp-content/uploads/2018/10/Jupyter_Notebook_CheatSheet_Edureka.pdf)__\n",
    "1. This is a general review of \n",
    "    - CSCE 146 topics, like $O(\\cdot),\\Theta(\\cdot)$ notation\n",
    "    - a few Math symbols\n",
    "        "
   ]
  },
  {
   "cell_type": "markdown",
   "metadata": {
    "slideshow": {
     "slide_type": "slide"
    }
   },
   "source": [
    "## Brute Force\n",
    "The definition of **brute force** we are using here is the \"straight forward/from the defintion\" (of exponentiation) one, and not the \"exhaustive search\" definition."
   ]
  },
  {
   "cell_type": "code",
   "execution_count": 198,
   "metadata": {},
   "outputs": [],
   "source": [
    "def print_no_nl(s):\n",
    "    \"\"\"\n",
    "    Prints input as string without newline\n",
    "    Input: something printable, will be converted to string, if not already\n",
    "    (this is just a little helper function)\n",
    "    \"\"\"\n",
    "    print(str(s),end='')\n",
    "\n",
    "def bf_exponentation(a, p): # function definition\n",
    "    \"\"\"\n",
    "    Brute Force Exponentiation\n",
    "    a -- the number being raised to a power\n",
    "    p -- the non-negative, integral power a is being raised to\n",
    "    \"\"\"\n",
    "    power = 1 \n",
    "    print_no_nl(1) \n",
    "    while p > 0:\n",
    "        power = power * a\n",
    "        p = p-1\n",
    "        print_no_nl(\"*\" + str(a))\n",
    "    \n",
    "    return power\n",
    "    "
   ]
  },
  {
   "cell_type": "code",
   "execution_count": 199,
   "metadata": {},
   "outputs": [
    {
     "name": "stdout",
     "output_type": "stream",
     "text": [
      "1*10*10"
     ]
    },
    {
     "data": {
      "text/plain": [
       "100"
      ]
     },
     "execution_count": 199,
     "metadata": {},
     "output_type": "execute_result"
    }
   ],
   "source": [
    "bf_exponentation(10,2)"
   ]
  },
  {
   "cell_type": "code",
   "execution_count": 200,
   "metadata": {},
   "outputs": [
    {
     "name": "stdout",
     "output_type": "stream",
     "text": [
      "1*2*2*2*2*2*2*2*2*2*2"
     ]
    },
    {
     "data": {
      "text/plain": [
       "1024"
      ]
     },
     "execution_count": 200,
     "metadata": {},
     "output_type": "execute_result"
    }
   ],
   "source": [
    "bf_exponentation(2,10)"
   ]
  },
  {
   "cell_type": "markdown",
   "metadata": {},
   "source": [
    "Also, a reminder that $2^{10} \\approx 10^3$\n",
    "- great to remember that when working with binary and you need to actually do calculations, approximately, which may occasionally come up in class, though more often in networking (CSCE 416), maybo OS (CSCE 311), and hardware courses \n",
    "- e.g. $2^{23}=2^3\\times 2^{10} \\times 2^{10} \\approx 2^3 \\times 10^6 = 8 000 000 $ \n",
    "- (oh, and I can do $\\LaTeX$ in Jupyter notebooks too... forgot about that, which is *great* for Chapter 2) "
   ]
  },
  {
   "cell_type": "code",
   "execution_count": 201,
   "metadata": {},
   "outputs": [
    {
     "name": "stdout",
     "output_type": "stream",
     "text": [
      "1*5"
     ]
    },
    {
     "data": {
      "text/plain": [
       "5"
      ]
     },
     "execution_count": 201,
     "metadata": {},
     "output_type": "execute_result"
    }
   ],
   "source": [
    "bf_exponentation(5,1)"
   ]
  },
  {
   "cell_type": "code",
   "execution_count": 202,
   "metadata": {},
   "outputs": [
    {
     "name": "stdout",
     "output_type": "stream",
     "text": [
      "1"
     ]
    },
    {
     "data": {
      "text/plain": [
       "1"
      ]
     },
     "execution_count": 202,
     "metadata": {},
     "output_type": "execute_result"
    }
   ],
   "source": [
    "bf_exponentation(25,0)"
   ]
  },
  {
   "cell_type": "markdown",
   "metadata": {},
   "source": [
    "What's *missing* so far, versus Java/C++?"
   ]
  },
  {
   "cell_type": "markdown",
   "metadata": {},
   "source": [
    "**Types** are missing, as in declaring your types for **static** (compile-time) type checking like in Java/C++\n",
    "- Python *does* do type checking, but it is **dynamically** typed, meaning it is checking at runtime; Python's type system is also described as \"duck typing\"\n",
    "    - \\+ Do not have to declare types in code (if the functions/operators work/exist, the code will run)\n",
    "    - \\+ Do not have to do tempates (generic programming as in C++/Java)\n",
    "    - \\- Can be bad if your code runs for days before hitting problem code and crashing out, e.g. in deep learning\n",
    "    - (we will see some C++ examples using the **auto** keyword that offer a third option -- type inference)\n",
    "- So, we can use the above code to do stuff like"
   ]
  },
  {
   "cell_type": "code",
   "execution_count": 203,
   "metadata": {},
   "outputs": [
    {
     "name": "stdout",
     "output_type": "stream",
     "text": [
      "1*0.5*0.5*0.5"
     ]
    },
    {
     "data": {
      "text/plain": [
       "0.125"
      ]
     },
     "execution_count": 203,
     "metadata": {},
     "output_type": "execute_result"
    }
   ],
   "source": [
    "bf_exponentation(0.5,3)"
   ]
  },
  {
   "cell_type": "markdown",
   "metadata": {},
   "source": [
    "In case you're paranoid there's some formatting trickery, like displaying 1.0 as \"1\", here you go:"
   ]
  },
  {
   "cell_type": "code",
   "execution_count": 204,
   "metadata": {},
   "outputs": [
    {
     "name": "stdout",
     "output_type": "stream",
     "text": [
      "1*0.5*0.5*0.5"
     ]
    },
    {
     "data": {
      "text/plain": [
       "float"
      ]
     },
     "execution_count": 204,
     "metadata": {},
     "output_type": "execute_result"
    }
   ],
   "source": [
    "type(bf_exponentation(0.5,3))"
   ]
  },
  {
   "cell_type": "code",
   "execution_count": 205,
   "metadata": {},
   "outputs": [
    {
     "name": "stdout",
     "output_type": "stream",
     "text": [
      "1*2*2*2"
     ]
    },
    {
     "data": {
      "text/plain": [
       "int"
      ]
     },
     "execution_count": 205,
     "metadata": {},
     "output_type": "execute_result"
    }
   ],
   "source": [
    "type(bf_exponentation(2,3))"
   ]
  },
  {
   "cell_type": "markdown",
   "metadata": {},
   "source": [
    "## Decrease-by-*Constant*-and-Conquer\n",
    "- Constant here, and typically, is just $1$\n",
    "- This maps to a recursive approach, e.g."
   ]
  },
  {
   "cell_type": "markdown",
   "metadata": {},
   "source": [
    " $3^4 = 3\\times 3^3$\n",
    " \n",
    "  $= 3\\times 3\\times 3^2$\n",
    "  \n",
    "  $= 3\\times 3\\times 3\\times 3^1$\n",
    "  \n",
    "  $= 3\\times 3\\times 3\\times 3\\times 3^0$"
   ]
  },
  {
   "cell_type": "markdown",
   "metadata": {},
   "source": [
    "Or, more generally,\n",
    "\n",
    "$  a^p = \\begin{cases} a\\times a^{p-1} & p>0 \\\\ 1 & p=0 \\end{cases} $"
   ]
  },
  {
   "cell_type": "markdown",
   "metadata": {},
   "source": [
    "Defining recursively:"
   ]
  },
  {
   "cell_type": "code",
   "execution_count": 206,
   "metadata": {},
   "outputs": [],
   "source": [
    "def recursive_exponentiation(a,p):\n",
    "    \"\"\"\n",
    "    Decrease by a constant and conquer, basic recursive approach to exponentiation\n",
    "    a -- the number being raised to a power\n",
    "    p -- the non-negative, integral power a is being raised to\n",
    "    \"\"\"\n",
    "    if p == 0:\n",
    "        print_no_nl(1)\n",
    "        return 1\n",
    "    else:         \n",
    "        print_no_nl(str(a)+\"*(\")\n",
    "        \n",
    "        a_to_p_minus_1 = recursive_exponentiation(a,p-1)\n",
    "        \n",
    "        print_no_nl(\")\")\n",
    "        return a*a_to_p_minus_1"
   ]
  },
  {
   "cell_type": "code",
   "execution_count": 207,
   "metadata": {},
   "outputs": [
    {
     "name": "stdout",
     "output_type": "stream",
     "text": [
      "3*(3*(3*(3*(1))))"
     ]
    },
    {
     "data": {
      "text/plain": [
       "81"
      ]
     },
     "execution_count": 207,
     "metadata": {},
     "output_type": "execute_result"
    }
   ],
   "source": [
    "recursive_exponentiation(3,4)"
   ]
  },
  {
   "cell_type": "markdown",
   "metadata": {},
   "source": [
    "Well, is this any good?"
   ]
  },
  {
   "cell_type": "markdown",
   "metadata": {},
   "source": [
    "From an implementation standpoint, probably *not*. Why?\n",
    "- Well, we are going to make a bunch of recursive calls.\n",
    "- Recursive calls are going to be more expensive than looping (iteration)\n",
    "    - a recursive function call is more expensive in *time* and *space* than iteration, generally, because\n",
    "        - updating the counter variable and jumping is going to be quicker than making a new stack frame and returning from it, but this is not a big deal here since they are \"merely\" $O(1)$, a constant, amount of extra time (a simple factor difference of one another\n",
    "        - the basic recursive approach also needs $O(p)$ extra space because there will be $p+1$ total calls on the stack, i.e.\n",
    "            - the initial call\n",
    "            - and $p$ recursive calls, down to $0$\n",
    "            - none of the calls *pop off the stack* until the \"base case\", $p=0$ case, is hit. (When recursive calls \"pop off the stack\" is important to remember when we look at some other strategies, in particular Divide and Conquer). \n",
    "        - This difference *may* be obviated by tail call optimization, depending on\n",
    "            - how you wrote the code\n",
    "            - your compiler and optimization level\n",
    "            - ... but pessimists are rarely disappointed\n",
    "            - (note the iterative version above \"accumulates\" the partial solution in the variable power)\n",
    "\n",
    "\n",
    "\n"
   ]
  },
  {
   "cell_type": "markdown",
   "metadata": {},
   "source": [
    "\\* \"not a big deal\" because we are generally only concerned with non-constant differences between algorithms, e.g. $O(\\log n)$ vs. $O(n)$ vs. $O(n \\log n)$ etc... . We worry about the constant time differences, generally, *only* when we have algorithms of the *same* order of growth, the algorithms have the same \"Big-O\", worst case or average case.\n",
    "\n",
    "I'll harp in this with chapter 2, but one rule of thumb is to \n",
    "> Always pick the most efficient asymptotic growth algorithm algorithm if there is *any* question what the input size will be (or if it can possibly change).\n",
    "\n",
    "A *constant* time difference of even $10$ will not be noticed before the difference between $O(n \\log n)$ and $O(n^2)$ on even modest size inputs, like say a $n=10^6=\\text{\"one million\"}\\approx 2^{20}$. \n"
   ]
  },
  {
   "cell_type": "markdown",
   "metadata": {},
   "source": [
    "Incidentally, the base on logarithms for most algorithms is generally $2$, i.e., $\\log_2 n$ because we generally split in *half*, but that does not matter (proven with chapter 2 limits, e.g. $f(n) = log_2 n, f(n) \\in \\Theta(log_{10} n)$ ), so we can fudge the numbers a bit and just point out that\n",
    "- $n^2=(10^6)^2=10^{12}=1,000,000,000,000$\n",
    "- $n \\log_2 n = 10^6 \\times \\log_2 10 \\approx 10^6 \\times \\log_2 2^{20} = 10^6 \\times 20 = 20,000,000$\n",
    "- \"fudge\" here means we will \"ignore the constants\"\n",
    "- \"does not matter\" means to \"within a constant\" again, $O(1)$ difference\n",
    "- Remember: Exponentiation and logarithms are *inverses* of one another, a very relevant fact in this class.\n",
    "- Remember: $f(n) \\in \\Theta(g(n ))$ means $f(n)$ and $g(n)$ have the same order of growth, they grow within a constant of one another *asymptotically* (\"as $n$ goes to infinity\" or, informally, \"on large input sizes\").\n",
    "- Do not worry if you forgot or did not quite get this in CSCE 146, we will review this carefully with chapter 2, soon."
   ]
  },
  {
   "cell_type": "markdown",
   "metadata": {},
   "source": [
    "Let's look at an output again:"
   ]
  },
  {
   "cell_type": "code",
   "execution_count": 208,
   "metadata": {},
   "outputs": [
    {
     "name": "stdout",
     "output_type": "stream",
     "text": [
      "3*(3*(3*(3*(1))))"
     ]
    },
    {
     "data": {
      "text/plain": [
       "81"
      ]
     },
     "execution_count": 208,
     "metadata": {},
     "output_type": "execute_result"
    }
   ],
   "source": [
    "recursive_exponentiation(3,4)"
   ]
  },
  {
   "cell_type": "markdown",
   "metadata": {},
   "source": [
    "Okay, from a theoretical standpoint, did the the Decrease-by-a-Constant-and-Conquer approach help us?\n",
    "\n",
    "It might, if you look at the explicit parethesization and you remember the associative property of multiplication, basically meaning we can do the multiplications in any order (by \"moving the parentheses\"). So, maybe we try a Divide and Conquer Approach, and solve it like this:\n",
    "\n",
    "$3^4 = (3^2)*(3^2) = ((3^1)*(3^1))*((3^1)*(3^1)) = 81$\n",
    "\n",
    "or, more generally,\n",
    "\n",
    "$a^p = \\begin{cases} a^{\\lceil \\frac{p}{2} \\rceil}\\times a^{\\lfloor \\frac{p}{2} \\rfloor} & p>1 \\\\ a & p =1 \\\\ 1 &p =0 \\end{cases} $"
   ]
  },
  {
   "cell_type": "code",
   "execution_count": 209,
   "metadata": {},
   "outputs": [],
   "source": [
    "import math\n",
    "\n",
    "def divide_and_conq_exponentiation(a,p):\n",
    "    \"\"\"\n",
    "    Divide and conquer, basic recursive approach to exponentiation\n",
    "    a -- the number being raised to a power\n",
    "    p -- the non-negative, integral power a is being raised to\n",
    "    \"\"\"\n",
    "    if p > 1:\n",
    "        print_no_nl(\"(\")\n",
    "        a_to_ceiling_half_p = divide_and_conq_exponentiation(a,math.ceil(p/2))\n",
    "        print_no_nl(\")*(\")\n",
    "        a_to_floor_half_p = divide_and_conq_exponentiation(a,math.floor(p/2))\n",
    "        print_no_nl(\")\")\n",
    "        return a_to_ceiling_half_p * a_to_floor_half_p\n",
    "    elif p == 1:\n",
    "        print_no_nl(a)\n",
    "        return a\n",
    "    elif p == 0:\n",
    "        print_no_nl(1)\n",
    "        return 1\n",
    "    else:         \n",
    "        raise Exception(\"p must be integral and nonnegative\")"
   ]
  },
  {
   "cell_type": "code",
   "execution_count": 210,
   "metadata": {},
   "outputs": [
    {
     "name": "stdout",
     "output_type": "stream",
     "text": [
      "((3)*(3))*((3)*(3))"
     ]
    },
    {
     "data": {
      "text/plain": [
       "81"
      ]
     },
     "execution_count": 210,
     "metadata": {},
     "output_type": "execute_result"
    }
   ],
   "source": [
    "divide_and_conq_exponentiation(3,4)"
   ]
  },
  {
   "cell_type": "markdown",
   "metadata": {},
   "source": [
    "So, is this Divide and Conquer approach any good? It still \n",
    "1. has the same number of multiplies,\n",
    "2. and is recursive\n",
    "so was there any benefit?\n",
    "\n",
    "There was, actually, versus the Decrease by 1 and Conquer version. It uses less memory for large powers. If you think about recursion temporally, then we actually only have to worry about the *depth* of recursion for this w.r.t. (\"with respect to\") space.\n",
    "\n",
    "It is obvious that the Decrease by 1 and Conquer version, when it gets to the base case of "
   ]
  },
  {
   "cell_type": "code",
   "execution_count": 211,
   "metadata": {},
   "outputs": [
    {
     "name": "stdout",
     "output_type": "stream",
     "text": [
      "3*(3*(3*(3*(3*(1)))))"
     ]
    },
    {
     "data": {
      "text/plain": [
       "243"
      ]
     },
     "execution_count": 211,
     "metadata": {},
     "output_type": "execute_result"
    }
   ],
   "source": [
    "recursive_exponentiation(3,5)"
   ]
  },
  {
   "cell_type": "markdown",
   "metadata": {},
   "source": [
    "will have a stack like"
   ]
  },
  {
   "cell_type": "code",
   "execution_count": 1,
   "metadata": {},
   "outputs": [
    {
     "data": {
      "image/svg+xml": [
       "<?xml version=\"1.0\" encoding=\"UTF-8\" standalone=\"no\"?>\r\n",
       "<!DOCTYPE svg PUBLIC \"-//W3C//DTD SVG 1.1//EN\"\r\n",
       " \"http://www.w3.org/Graphics/SVG/1.1/DTD/svg11.dtd\">\r\n",
       "<!-- Generated by graphviz version 2.38.0 (20140413.2041)\r\n",
       " -->\r\n",
       "<!-- Title: %3 Pages: 1 -->\r\n",
       "<svg width=\"62pt\" height=\"404pt\"\r\n",
       " viewBox=\"0.00 0.00 62.00 404.00\" xmlns=\"http://www.w3.org/2000/svg\" xmlns:xlink=\"http://www.w3.org/1999/xlink\">\r\n",
       "<g id=\"graph0\" class=\"graph\" transform=\"scale(1 1) rotate(0) translate(4 400)\">\r\n",
       "<title>%3</title>\r\n",
       "<polygon fill=\"white\" stroke=\"none\" points=\"-4,4 -4,-400 58,-400 58,4 -4,4\"/>\r\n",
       "<!-- p5 -->\r\n",
       "<g id=\"node1\" class=\"node\"><title>p5</title>\r\n",
       "<ellipse fill=\"none\" stroke=\"black\" cx=\"27\" cy=\"-18\" rx=\"27\" ry=\"18\"/>\r\n",
       "<text text-anchor=\"middle\" x=\"27\" y=\"-14.3\" font-family=\"Times New Roman,serif\" font-size=\"14.00\">3^5</text>\r\n",
       "</g>\r\n",
       "<!-- p4 -->\r\n",
       "<g id=\"node2\" class=\"node\"><title>p4</title>\r\n",
       "<ellipse fill=\"none\" stroke=\"black\" cx=\"27\" cy=\"-90\" rx=\"27\" ry=\"18\"/>\r\n",
       "<text text-anchor=\"middle\" x=\"27\" y=\"-86.3\" font-family=\"Times New Roman,serif\" font-size=\"14.00\">3^4</text>\r\n",
       "</g>\r\n",
       "<!-- p4&#45;&gt;p5 -->\r\n",
       "<g id=\"edge1\" class=\"edge\"><title>p4&#45;&gt;p5</title>\r\n",
       "<path fill=\"none\" stroke=\"black\" d=\"M27,-71.6966C27,-63.9827 27,-54.7125 27,-46.1124\"/>\r\n",
       "<polygon fill=\"black\" stroke=\"black\" points=\"30.5001,-46.1043 27,-36.1043 23.5001,-46.1044 30.5001,-46.1043\"/>\r\n",
       "</g>\r\n",
       "<!-- p3 -->\r\n",
       "<g id=\"node3\" class=\"node\"><title>p3</title>\r\n",
       "<ellipse fill=\"none\" stroke=\"black\" cx=\"27\" cy=\"-162\" rx=\"27\" ry=\"18\"/>\r\n",
       "<text text-anchor=\"middle\" x=\"27\" y=\"-158.3\" font-family=\"Times New Roman,serif\" font-size=\"14.00\">3^3</text>\r\n",
       "</g>\r\n",
       "<!-- p3&#45;&gt;p4 -->\r\n",
       "<g id=\"edge2\" class=\"edge\"><title>p3&#45;&gt;p4</title>\r\n",
       "<path fill=\"none\" stroke=\"black\" d=\"M27,-143.697C27,-135.983 27,-126.712 27,-118.112\"/>\r\n",
       "<polygon fill=\"black\" stroke=\"black\" points=\"30.5001,-118.104 27,-108.104 23.5001,-118.104 30.5001,-118.104\"/>\r\n",
       "</g>\r\n",
       "<!-- p2 -->\r\n",
       "<g id=\"node4\" class=\"node\"><title>p2</title>\r\n",
       "<ellipse fill=\"none\" stroke=\"black\" cx=\"27\" cy=\"-234\" rx=\"27\" ry=\"18\"/>\r\n",
       "<text text-anchor=\"middle\" x=\"27\" y=\"-230.3\" font-family=\"Times New Roman,serif\" font-size=\"14.00\">3^2</text>\r\n",
       "</g>\r\n",
       "<!-- p2&#45;&gt;p3 -->\r\n",
       "<g id=\"edge3\" class=\"edge\"><title>p2&#45;&gt;p3</title>\r\n",
       "<path fill=\"none\" stroke=\"black\" d=\"M27,-215.697C27,-207.983 27,-198.712 27,-190.112\"/>\r\n",
       "<polygon fill=\"black\" stroke=\"black\" points=\"30.5001,-190.104 27,-180.104 23.5001,-190.104 30.5001,-190.104\"/>\r\n",
       "</g>\r\n",
       "<!-- p1 -->\r\n",
       "<g id=\"node5\" class=\"node\"><title>p1</title>\r\n",
       "<ellipse fill=\"none\" stroke=\"black\" cx=\"27\" cy=\"-306\" rx=\"27\" ry=\"18\"/>\r\n",
       "<text text-anchor=\"middle\" x=\"27\" y=\"-302.3\" font-family=\"Times New Roman,serif\" font-size=\"14.00\">3^1</text>\r\n",
       "</g>\r\n",
       "<!-- p1&#45;&gt;p2 -->\r\n",
       "<g id=\"edge4\" class=\"edge\"><title>p1&#45;&gt;p2</title>\r\n",
       "<path fill=\"none\" stroke=\"black\" d=\"M27,-287.697C27,-279.983 27,-270.712 27,-262.112\"/>\r\n",
       "<polygon fill=\"black\" stroke=\"black\" points=\"30.5001,-262.104 27,-252.104 23.5001,-262.104 30.5001,-262.104\"/>\r\n",
       "</g>\r\n",
       "<!-- p0 -->\r\n",
       "<g id=\"node6\" class=\"node\"><title>p0</title>\r\n",
       "<ellipse fill=\"none\" stroke=\"black\" cx=\"27\" cy=\"-378\" rx=\"27\" ry=\"18\"/>\r\n",
       "<text text-anchor=\"middle\" x=\"27\" y=\"-374.3\" font-family=\"Times New Roman,serif\" font-size=\"14.00\">3^0</text>\r\n",
       "</g>\r\n",
       "<!-- p0&#45;&gt;p1 -->\r\n",
       "<g id=\"edge5\" class=\"edge\"><title>p0&#45;&gt;p1</title>\r\n",
       "<path fill=\"none\" stroke=\"black\" d=\"M27,-359.697C27,-351.983 27,-342.712 27,-334.112\"/>\r\n",
       "<polygon fill=\"black\" stroke=\"black\" points=\"30.5001,-334.104 27,-324.104 23.5001,-334.104 30.5001,-334.104\"/>\r\n",
       "</g>\r\n",
       "</g>\r\n",
       "</svg>\r\n"
      ],
      "text/plain": [
       "<graphviz.dot.Digraph at 0x2aa2e325dc8>"
      ]
     },
     "metadata": {},
     "output_type": "display_data"
    }
   ],
   "source": [
    "from graphviz import Digraph\n",
    "\n",
    "dot = Digraph()\n",
    "\n",
    "dot.node('p5','3^5')\n",
    "dot.node('p4','3^4')\n",
    "dot.node('p3','3^3')\n",
    "dot.node('p2','3^2')\n",
    "dot.node('p1','3^1')\n",
    "dot.node('p0','3^0')\n",
    "\n",
    "dot.edge('p4','p5')\n",
    "dot.edge('p3','p4')\n",
    "dot.edge('p2','p3')\n",
    "dot.edge('p1','p2')\n",
    "dot.edge('p0','p1')\n",
    "\n",
    "\n",
    "display(dot)"
   ]
  },
  {
   "cell_type": "markdown",
   "metadata": {},
   "source": [
    "or"
   ]
  },
  {
   "cell_type": "code",
   "execution_count": 8,
   "metadata": {},
   "outputs": [
    {
     "data": {
      "image/svg+xml": [
       "<?xml version=\"1.0\" encoding=\"UTF-8\" standalone=\"no\"?>\r\n",
       "<!DOCTYPE svg PUBLIC \"-//W3C//DTD SVG 1.1//EN\"\r\n",
       " \"http://www.w3.org/Graphics/SVG/1.1/DTD/svg11.dtd\">\r\n",
       "<!-- Generated by graphviz version 2.38.0 (20140413.2041)\r\n",
       " -->\r\n",
       "<!-- Title: %3 Pages: 1 -->\r\n",
       "<svg width=\"62pt\" height=\"147pt\"\r\n",
       " viewBox=\"0.00 0.00 62.00 147.00\" xmlns=\"http://www.w3.org/2000/svg\" xmlns:xlink=\"http://www.w3.org/1999/xlink\">\r\n",
       "<g id=\"graph0\" class=\"graph\" transform=\"scale(1 1) rotate(0) translate(4 143)\">\r\n",
       "<title>%3</title>\r\n",
       "<polygon fill=\"white\" stroke=\"none\" points=\"-4,4 -4,-143 58,-143 58,4 -4,4\"/>\r\n",
       "<g id=\"node1\" class=\"node\"><title></title>\r\n",
       "<polygon fill=\"none\" stroke=\"black\" points=\"0,-0.5 0,-138.5 54,-138.5 54,-0.5 0,-0.5\"/>\r\n",
       "<text text-anchor=\"middle\" x=\"27\" y=\"-123.3\" font-family=\"Times New Roman,serif\" font-size=\"14.00\">3^0</text>\r\n",
       "<polyline fill=\"none\" stroke=\"black\" points=\"0,-115.5 54,-115.5 \"/>\r\n",
       "<text text-anchor=\"middle\" x=\"27\" y=\"-100.3\" font-family=\"Times New Roman,serif\" font-size=\"14.00\">3^1</text>\r\n",
       "<polyline fill=\"none\" stroke=\"black\" points=\"0,-92.5 54,-92.5 \"/>\r\n",
       "<text text-anchor=\"middle\" x=\"27\" y=\"-77.3\" font-family=\"Times New Roman,serif\" font-size=\"14.00\">3^2</text>\r\n",
       "<polyline fill=\"none\" stroke=\"black\" points=\"0,-69.5 54,-69.5 \"/>\r\n",
       "<text text-anchor=\"middle\" x=\"27\" y=\"-54.3\" font-family=\"Times New Roman,serif\" font-size=\"14.00\">3^3</text>\r\n",
       "<polyline fill=\"none\" stroke=\"black\" points=\"0,-46.5 54,-46.5 \"/>\r\n",
       "<text text-anchor=\"middle\" x=\"27\" y=\"-31.3\" font-family=\"Times New Roman,serif\" font-size=\"14.00\">3^4</text>\r\n",
       "<polyline fill=\"none\" stroke=\"black\" points=\"0,-23.5 54,-23.5 \"/>\r\n",
       "<text text-anchor=\"middle\" x=\"27\" y=\"-8.3\" font-family=\"Times New Roman,serif\" font-size=\"14.00\">3^5</text>\r\n",
       "</g>\r\n",
       "</g>\r\n",
       "</svg>\r\n"
      ],
      "text/plain": [
       "<graphviz.dot.Digraph at 0x2aa32104bc8>"
      ]
     },
     "metadata": {},
     "output_type": "display_data"
    }
   ],
   "source": [
    "dot = Digraph()\n",
    "\n",
    "dot.node(\"\",\"{3^0 | 3^1 | 3^2 | 3^3 | 3^4 | 3^5}\",shape='record')\n",
    "\n",
    "\n",
    "\n",
    "display(dot)"
   ]
  },
  {
   "cell_type": "markdown",
   "metadata": {},
   "source": [
    "and "
   ]
  },
  {
   "cell_type": "code",
   "execution_count": 213,
   "metadata": {},
   "outputs": [
    {
     "name": "stdout",
     "output_type": "stream",
     "text": [
      "(((3)*(3))*(3))*((3)*(3))"
     ]
    },
    {
     "data": {
      "text/plain": [
       "243"
      ]
     },
     "execution_count": 213,
     "metadata": {},
     "output_type": "execute_result"
    }
   ],
   "source": [
    "divide_and_conq_exponentiation(3,5)"
   ]
  },
  {
   "cell_type": "markdown",
   "metadata": {},
   "source": [
    "will, accumulated *over time*, something that looks like "
   ]
  },
  {
   "cell_type": "code",
   "execution_count": 214,
   "metadata": {},
   "outputs": [
    {
     "data": {
      "image/svg+xml": [
       "<?xml version=\"1.0\" encoding=\"UTF-8\" standalone=\"no\"?>\r\n",
       "<!DOCTYPE svg PUBLIC \"-//W3C//DTD SVG 1.1//EN\"\r\n",
       " \"http://www.w3.org/Graphics/SVG/1.1/DTD/svg11.dtd\">\r\n",
       "<!-- Generated by graphviz version 2.38.0 (20140413.2041)\r\n",
       " -->\r\n",
       "<!-- Title: %3 Pages: 1 -->\r\n",
       "<svg width=\"314pt\" height=\"260pt\"\r\n",
       " viewBox=\"0.00 0.00 314.00 260.00\" xmlns=\"http://www.w3.org/2000/svg\" xmlns:xlink=\"http://www.w3.org/1999/xlink\">\r\n",
       "<g id=\"graph0\" class=\"graph\" transform=\"scale(1 1) rotate(0) translate(4 256)\">\r\n",
       "<title>%3</title>\r\n",
       "<polygon fill=\"white\" stroke=\"none\" points=\"-4,4 -4,-256 310,-256 310,4 -4,4\"/>\r\n",
       "<!-- p5 -->\r\n",
       "<g id=\"node1\" class=\"node\"><title>p5</title>\r\n",
       "<ellipse fill=\"none\" stroke=\"black\" cx=\"171\" cy=\"-234\" rx=\"27\" ry=\"18\"/>\r\n",
       "<text text-anchor=\"middle\" x=\"171\" y=\"-230.3\" font-family=\"Times New Roman,serif\" font-size=\"14.00\">3^5</text>\r\n",
       "</g>\r\n",
       "<!-- p3 -->\r\n",
       "<g id=\"node2\" class=\"node\"><title>p3</title>\r\n",
       "<ellipse fill=\"none\" stroke=\"black\" cx=\"135\" cy=\"-162\" rx=\"27\" ry=\"18\"/>\r\n",
       "<text text-anchor=\"middle\" x=\"135\" y=\"-158.3\" font-family=\"Times New Roman,serif\" font-size=\"14.00\">3^3</text>\r\n",
       "</g>\r\n",
       "<!-- p5&#45;&gt;p3 -->\r\n",
       "<g id=\"edge1\" class=\"edge\"><title>p5&#45;&gt;p3</title>\r\n",
       "<path fill=\"none\" stroke=\"black\" d=\"M162.65,-216.765C158.288,-208.283 152.853,-197.714 147.959,-188.197\"/>\r\n",
       "<polygon fill=\"black\" stroke=\"black\" points=\"150.99,-186.439 143.304,-179.147 144.765,-189.641 150.99,-186.439\"/>\r\n",
       "</g>\r\n",
       "<!-- p2r -->\r\n",
       "<g id=\"node4\" class=\"node\"><title>p2r</title>\r\n",
       "<ellipse fill=\"none\" stroke=\"black\" cx=\"207\" cy=\"-162\" rx=\"27\" ry=\"18\"/>\r\n",
       "<text text-anchor=\"middle\" x=\"207\" y=\"-158.3\" font-family=\"Times New Roman,serif\" font-size=\"14.00\">3^2</text>\r\n",
       "</g>\r\n",
       "<!-- p5&#45;&gt;p2r -->\r\n",
       "<g id=\"edge6\" class=\"edge\"><title>p5&#45;&gt;p2r</title>\r\n",
       "<path fill=\"none\" stroke=\"black\" d=\"M179.35,-216.765C183.712,-208.283 189.147,-197.714 194.041,-188.197\"/>\r\n",
       "<polygon fill=\"black\" stroke=\"black\" points=\"197.235,-189.641 198.696,-179.147 191.01,-186.439 197.235,-189.641\"/>\r\n",
       "</g>\r\n",
       "<!-- p2ll -->\r\n",
       "<g id=\"node3\" class=\"node\"><title>p2ll</title>\r\n",
       "<ellipse fill=\"none\" stroke=\"black\" cx=\"63\" cy=\"-90\" rx=\"27\" ry=\"18\"/>\r\n",
       "<text text-anchor=\"middle\" x=\"63\" y=\"-86.3\" font-family=\"Times New Roman,serif\" font-size=\"14.00\">3^2</text>\r\n",
       "</g>\r\n",
       "<!-- p3&#45;&gt;p2ll -->\r\n",
       "<g id=\"edge2\" class=\"edge\"><title>p3&#45;&gt;p2ll</title>\r\n",
       "<path fill=\"none\" stroke=\"black\" d=\"M120.43,-146.834C110.25,-136.938 96.4761,-123.546 84.9694,-112.359\"/>\r\n",
       "<polygon fill=\"black\" stroke=\"black\" points=\"87.4055,-109.846 77.7957,-105.385 82.5259,-114.865 87.4055,-109.846\"/>\r\n",
       "</g>\r\n",
       "<!-- p1lr -->\r\n",
       "<g id=\"node7\" class=\"node\"><title>p1lr</title>\r\n",
       "<ellipse fill=\"none\" stroke=\"black\" cx=\"135\" cy=\"-90\" rx=\"27\" ry=\"18\"/>\r\n",
       "<text text-anchor=\"middle\" x=\"135\" y=\"-86.3\" font-family=\"Times New Roman,serif\" font-size=\"14.00\">3^1</text>\r\n",
       "</g>\r\n",
       "<!-- p3&#45;&gt;p1lr -->\r\n",
       "<g id=\"edge5\" class=\"edge\"><title>p3&#45;&gt;p1lr</title>\r\n",
       "<path fill=\"none\" stroke=\"black\" d=\"M135,-143.697C135,-135.983 135,-126.712 135,-118.112\"/>\r\n",
       "<polygon fill=\"black\" stroke=\"black\" points=\"138.5,-118.104 135,-108.104 131.5,-118.104 138.5,-118.104\"/>\r\n",
       "</g>\r\n",
       "<!-- p1lll -->\r\n",
       "<g id=\"node5\" class=\"node\"><title>p1lll</title>\r\n",
       "<ellipse fill=\"none\" stroke=\"black\" cx=\"27\" cy=\"-18\" rx=\"27\" ry=\"18\"/>\r\n",
       "<text text-anchor=\"middle\" x=\"27\" y=\"-14.3\" font-family=\"Times New Roman,serif\" font-size=\"14.00\">3^1</text>\r\n",
       "</g>\r\n",
       "<!-- p2ll&#45;&gt;p1lll -->\r\n",
       "<g id=\"edge3\" class=\"edge\"><title>p2ll&#45;&gt;p1lll</title>\r\n",
       "<path fill=\"none\" stroke=\"black\" d=\"M54.6504,-72.7646C50.2885,-64.2831 44.8531,-53.7144 39.9587,-44.1974\"/>\r\n",
       "<polygon fill=\"black\" stroke=\"black\" points=\"42.9904,-42.4395 35.3043,-35.1473 36.7654,-45.6409 42.9904,-42.4395\"/>\r\n",
       "</g>\r\n",
       "<!-- p1llr -->\r\n",
       "<g id=\"node6\" class=\"node\"><title>p1llr</title>\r\n",
       "<ellipse fill=\"none\" stroke=\"black\" cx=\"99\" cy=\"-18\" rx=\"27\" ry=\"18\"/>\r\n",
       "<text text-anchor=\"middle\" x=\"99\" y=\"-14.3\" font-family=\"Times New Roman,serif\" font-size=\"14.00\">3^1</text>\r\n",
       "</g>\r\n",
       "<!-- p2ll&#45;&gt;p1llr -->\r\n",
       "<g id=\"edge4\" class=\"edge\"><title>p2ll&#45;&gt;p1llr</title>\r\n",
       "<path fill=\"none\" stroke=\"black\" d=\"M71.3496,-72.7646C75.7115,-64.2831 81.1469,-53.7144 86.0413,-44.1974\"/>\r\n",
       "<polygon fill=\"black\" stroke=\"black\" points=\"89.2346,-45.6409 90.6957,-35.1473 83.0096,-42.4395 89.2346,-45.6409\"/>\r\n",
       "</g>\r\n",
       "<!-- p1rr -->\r\n",
       "<g id=\"node8\" class=\"node\"><title>p1rr</title>\r\n",
       "<ellipse fill=\"none\" stroke=\"black\" cx=\"207\" cy=\"-90\" rx=\"27\" ry=\"18\"/>\r\n",
       "<text text-anchor=\"middle\" x=\"207\" y=\"-86.3\" font-family=\"Times New Roman,serif\" font-size=\"14.00\">3^1</text>\r\n",
       "</g>\r\n",
       "<!-- p2r&#45;&gt;p1rr -->\r\n",
       "<g id=\"edge8\" class=\"edge\"><title>p2r&#45;&gt;p1rr</title>\r\n",
       "<path fill=\"none\" stroke=\"black\" d=\"M207,-143.697C207,-135.983 207,-126.712 207,-118.112\"/>\r\n",
       "<polygon fill=\"black\" stroke=\"black\" points=\"210.5,-118.104 207,-108.104 203.5,-118.104 210.5,-118.104\"/>\r\n",
       "</g>\r\n",
       "<!-- p1rl -->\r\n",
       "<g id=\"node9\" class=\"node\"><title>p1rl</title>\r\n",
       "<ellipse fill=\"none\" stroke=\"black\" cx=\"279\" cy=\"-90\" rx=\"27\" ry=\"18\"/>\r\n",
       "<text text-anchor=\"middle\" x=\"279\" y=\"-86.3\" font-family=\"Times New Roman,serif\" font-size=\"14.00\">3^1</text>\r\n",
       "</g>\r\n",
       "<!-- p2r&#45;&gt;p1rl -->\r\n",
       "<g id=\"edge7\" class=\"edge\"><title>p2r&#45;&gt;p1rl</title>\r\n",
       "<path fill=\"none\" stroke=\"black\" d=\"M221.57,-146.834C231.75,-136.938 245.524,-123.546 257.031,-112.359\"/>\r\n",
       "<polygon fill=\"black\" stroke=\"black\" points=\"259.474,-114.865 264.204,-105.385 254.595,-109.846 259.474,-114.865\"/>\r\n",
       "</g>\r\n",
       "</g>\r\n",
       "</svg>\r\n"
      ],
      "text/plain": [
       "<graphviz.dot.Digraph at 0x21e340e4b88>"
      ]
     },
     "metadata": {},
     "output_type": "display_data"
    }
   ],
   "source": [
    "dot = Digraph()\n",
    "\n",
    "dot.node('p5','3^5')\n",
    "dot.node('p3','3^3')\n",
    "dot.node('p2ll','3^2')\n",
    "dot.node('p2r','3^2')\n",
    "dot.node('p1lll','3^1')\n",
    "dot.node('p1llr','3^1')\n",
    "dot.node('p1lr','3^1')\n",
    "dot.node('p1rr','3^1')\n",
    "dot.node('p1rl','3^1')\n",
    "\n",
    "dot.edge('p5','p3')\n",
    "dot.edge('p3','p2ll')\n",
    "dot.edge('p2ll','p1lll')\n",
    "dot.edge('p2ll','p1llr')\n",
    "dot.edge('p3','p1lr')\n",
    "dot.edge('p5','p2r')\n",
    "dot.edge('p2r','p1rl')\n",
    "dot.edge('p2r','p1rr')\n",
    "\n",
    "\n",
    "display(dot)"
   ]
  },
  {
   "cell_type": "markdown",
   "metadata": {},
   "source": [
    "But, over time it looks more like (Ignore this for now...)"
   ]
  },
  {
   "cell_type": "code",
   "execution_count": 215,
   "metadata": {},
   "outputs": [
    {
     "data": {
      "image/svg+xml": [
       "<?xml version=\"1.0\" encoding=\"UTF-8\" standalone=\"no\"?>\r\n",
       "<!DOCTYPE svg PUBLIC \"-//W3C//DTD SVG 1.1//EN\"\r\n",
       " \"http://www.w3.org/Graphics/SVG/1.1/DTD/svg11.dtd\">\r\n",
       "<!-- Generated by graphviz version 2.38.0 (20140413.2041)\r\n",
       " -->\r\n",
       "<!-- Title: %3 Pages: 1 -->\r\n",
       "<svg width=\"62pt\" height=\"116pt\"\r\n",
       " viewBox=\"0.00 0.00 62.00 116.00\" xmlns=\"http://www.w3.org/2000/svg\" xmlns:xlink=\"http://www.w3.org/1999/xlink\">\r\n",
       "<g id=\"graph0\" class=\"graph\" transform=\"scale(1 1) rotate(0) translate(4 112)\">\r\n",
       "<title>%3</title>\r\n",
       "<polygon fill=\"white\" stroke=\"none\" points=\"-4,4 -4,-112 58,-112 58,4 -4,4\"/>\r\n",
       "<!-- p5 -->\r\n",
       "<g id=\"node1\" class=\"node\"><title>p5</title>\r\n",
       "<ellipse fill=\"none\" stroke=\"black\" cx=\"27\" cy=\"-90\" rx=\"27\" ry=\"18\"/>\r\n",
       "<text text-anchor=\"middle\" x=\"27\" y=\"-86.3\" font-family=\"Times New Roman,serif\" font-size=\"14.00\">3^5</text>\r\n",
       "</g>\r\n",
       "<!-- p3 -->\r\n",
       "<g id=\"node2\" class=\"node\"><title>p3</title>\r\n",
       "<ellipse fill=\"none\" stroke=\"black\" cx=\"27\" cy=\"-18\" rx=\"27\" ry=\"18\"/>\r\n",
       "<text text-anchor=\"middle\" x=\"27\" y=\"-14.3\" font-family=\"Times New Roman,serif\" font-size=\"14.00\">3^3</text>\r\n",
       "</g>\r\n",
       "<!-- p5&#45;&gt;p3 -->\r\n",
       "<g id=\"edge1\" class=\"edge\"><title>p5&#45;&gt;p3</title>\r\n",
       "<path fill=\"none\" stroke=\"black\" d=\"M27,-71.6966C27,-63.9827 27,-54.7125 27,-46.1124\"/>\r\n",
       "<polygon fill=\"black\" stroke=\"black\" points=\"30.5001,-46.1043 27,-36.1043 23.5001,-46.1044 30.5001,-46.1043\"/>\r\n",
       "</g>\r\n",
       "</g>\r\n",
       "</svg>\r\n"
      ],
      "text/plain": [
       "<graphviz.dot.Digraph at 0x21e3412c708>"
      ]
     },
     "metadata": {},
     "output_type": "display_data"
    },
    {
     "data": {
      "image/svg+xml": [
       "<?xml version=\"1.0\" encoding=\"UTF-8\" standalone=\"no\"?>\r\n",
       "<!DOCTYPE svg PUBLIC \"-//W3C//DTD SVG 1.1//EN\"\r\n",
       " \"http://www.w3.org/Graphics/SVG/1.1/DTD/svg11.dtd\">\r\n",
       "<!-- Generated by graphviz version 2.38.0 (20140413.2041)\r\n",
       " -->\r\n",
       "<!-- Title: %3 Pages: 1 -->\r\n",
       "<svg width=\"62pt\" height=\"188pt\"\r\n",
       " viewBox=\"0.00 0.00 62.00 188.00\" xmlns=\"http://www.w3.org/2000/svg\" xmlns:xlink=\"http://www.w3.org/1999/xlink\">\r\n",
       "<g id=\"graph0\" class=\"graph\" transform=\"scale(1 1) rotate(0) translate(4 184)\">\r\n",
       "<title>%3</title>\r\n",
       "<polygon fill=\"white\" stroke=\"none\" points=\"-4,4 -4,-184 58,-184 58,4 -4,4\"/>\r\n",
       "<!-- p5 -->\r\n",
       "<g id=\"node1\" class=\"node\"><title>p5</title>\r\n",
       "<ellipse fill=\"none\" stroke=\"black\" cx=\"27\" cy=\"-162\" rx=\"27\" ry=\"18\"/>\r\n",
       "<text text-anchor=\"middle\" x=\"27\" y=\"-158.3\" font-family=\"Times New Roman,serif\" font-size=\"14.00\">3^5</text>\r\n",
       "</g>\r\n",
       "<!-- p3 -->\r\n",
       "<g id=\"node2\" class=\"node\"><title>p3</title>\r\n",
       "<ellipse fill=\"none\" stroke=\"black\" cx=\"27\" cy=\"-90\" rx=\"27\" ry=\"18\"/>\r\n",
       "<text text-anchor=\"middle\" x=\"27\" y=\"-86.3\" font-family=\"Times New Roman,serif\" font-size=\"14.00\">3^3</text>\r\n",
       "</g>\r\n",
       "<!-- p5&#45;&gt;p3 -->\r\n",
       "<g id=\"edge1\" class=\"edge\"><title>p5&#45;&gt;p3</title>\r\n",
       "<path fill=\"none\" stroke=\"black\" d=\"M27,-143.697C27,-135.983 27,-126.712 27,-118.112\"/>\r\n",
       "<polygon fill=\"black\" stroke=\"black\" points=\"30.5001,-118.104 27,-108.104 23.5001,-118.104 30.5001,-118.104\"/>\r\n",
       "</g>\r\n",
       "<!-- p2ll -->\r\n",
       "<g id=\"node3\" class=\"node\"><title>p2ll</title>\r\n",
       "<ellipse fill=\"none\" stroke=\"black\" cx=\"27\" cy=\"-18\" rx=\"27\" ry=\"18\"/>\r\n",
       "<text text-anchor=\"middle\" x=\"27\" y=\"-14.3\" font-family=\"Times New Roman,serif\" font-size=\"14.00\">3^2</text>\r\n",
       "</g>\r\n",
       "<!-- p3&#45;&gt;p2ll -->\r\n",
       "<g id=\"edge2\" class=\"edge\"><title>p3&#45;&gt;p2ll</title>\r\n",
       "<path fill=\"none\" stroke=\"black\" d=\"M27,-71.6966C27,-63.9827 27,-54.7125 27,-46.1124\"/>\r\n",
       "<polygon fill=\"black\" stroke=\"black\" points=\"30.5001,-46.1043 27,-36.1043 23.5001,-46.1044 30.5001,-46.1043\"/>\r\n",
       "</g>\r\n",
       "</g>\r\n",
       "</svg>\r\n"
      ],
      "text/plain": [
       "<graphviz.dot.Digraph at 0x21e330ed588>"
      ]
     },
     "metadata": {},
     "output_type": "display_data"
    },
    {
     "data": {
      "image/svg+xml": [
       "<?xml version=\"1.0\" encoding=\"UTF-8\" standalone=\"no\"?>\r\n",
       "<!DOCTYPE svg PUBLIC \"-//W3C//DTD SVG 1.1//EN\"\r\n",
       " \"http://www.w3.org/Graphics/SVG/1.1/DTD/svg11.dtd\">\r\n",
       "<!-- Generated by graphviz version 2.38.0 (20140413.2041)\r\n",
       " -->\r\n",
       "<!-- Title: %3 Pages: 1 -->\r\n",
       "<svg width=\"62pt\" height=\"260pt\"\r\n",
       " viewBox=\"0.00 0.00 62.00 260.00\" xmlns=\"http://www.w3.org/2000/svg\" xmlns:xlink=\"http://www.w3.org/1999/xlink\">\r\n",
       "<g id=\"graph0\" class=\"graph\" transform=\"scale(1 1) rotate(0) translate(4 256)\">\r\n",
       "<title>%3</title>\r\n",
       "<polygon fill=\"white\" stroke=\"none\" points=\"-4,4 -4,-256 58,-256 58,4 -4,4\"/>\r\n",
       "<!-- p5 -->\r\n",
       "<g id=\"node1\" class=\"node\"><title>p5</title>\r\n",
       "<ellipse fill=\"none\" stroke=\"black\" cx=\"27\" cy=\"-234\" rx=\"27\" ry=\"18\"/>\r\n",
       "<text text-anchor=\"middle\" x=\"27\" y=\"-230.3\" font-family=\"Times New Roman,serif\" font-size=\"14.00\">3^5</text>\r\n",
       "</g>\r\n",
       "<!-- p3 -->\r\n",
       "<g id=\"node2\" class=\"node\"><title>p3</title>\r\n",
       "<ellipse fill=\"none\" stroke=\"black\" cx=\"27\" cy=\"-162\" rx=\"27\" ry=\"18\"/>\r\n",
       "<text text-anchor=\"middle\" x=\"27\" y=\"-158.3\" font-family=\"Times New Roman,serif\" font-size=\"14.00\">3^3</text>\r\n",
       "</g>\r\n",
       "<!-- p5&#45;&gt;p3 -->\r\n",
       "<g id=\"edge1\" class=\"edge\"><title>p5&#45;&gt;p3</title>\r\n",
       "<path fill=\"none\" stroke=\"black\" d=\"M27,-215.697C27,-207.983 27,-198.712 27,-190.112\"/>\r\n",
       "<polygon fill=\"black\" stroke=\"black\" points=\"30.5001,-190.104 27,-180.104 23.5001,-190.104 30.5001,-190.104\"/>\r\n",
       "</g>\r\n",
       "<!-- p2ll -->\r\n",
       "<g id=\"node3\" class=\"node\"><title>p2ll</title>\r\n",
       "<ellipse fill=\"none\" stroke=\"black\" cx=\"27\" cy=\"-90\" rx=\"27\" ry=\"18\"/>\r\n",
       "<text text-anchor=\"middle\" x=\"27\" y=\"-86.3\" font-family=\"Times New Roman,serif\" font-size=\"14.00\">3^2</text>\r\n",
       "</g>\r\n",
       "<!-- p3&#45;&gt;p2ll -->\r\n",
       "<g id=\"edge2\" class=\"edge\"><title>p3&#45;&gt;p2ll</title>\r\n",
       "<path fill=\"none\" stroke=\"black\" d=\"M27,-143.697C27,-135.983 27,-126.712 27,-118.112\"/>\r\n",
       "<polygon fill=\"black\" stroke=\"black\" points=\"30.5001,-118.104 27,-108.104 23.5001,-118.104 30.5001,-118.104\"/>\r\n",
       "</g>\r\n",
       "<!-- p1lll -->\r\n",
       "<g id=\"node4\" class=\"node\"><title>p1lll</title>\r\n",
       "<ellipse fill=\"none\" stroke=\"black\" cx=\"27\" cy=\"-18\" rx=\"27\" ry=\"18\"/>\r\n",
       "<text text-anchor=\"middle\" x=\"27\" y=\"-14.3\" font-family=\"Times New Roman,serif\" font-size=\"14.00\">3^1</text>\r\n",
       "</g>\r\n",
       "<!-- p2ll&#45;&gt;p1lll -->\r\n",
       "<g id=\"edge3\" class=\"edge\"><title>p2ll&#45;&gt;p1lll</title>\r\n",
       "<path fill=\"none\" stroke=\"black\" d=\"M27,-71.6966C27,-63.9827 27,-54.7125 27,-46.1124\"/>\r\n",
       "<polygon fill=\"black\" stroke=\"black\" points=\"30.5001,-46.1043 27,-36.1043 23.5001,-46.1044 30.5001,-46.1043\"/>\r\n",
       "</g>\r\n",
       "</g>\r\n",
       "</svg>\r\n"
      ],
      "text/plain": [
       "<graphviz.dot.Digraph at 0x21e340c8748>"
      ]
     },
     "metadata": {},
     "output_type": "display_data"
    },
    {
     "data": {
      "image/svg+xml": [
       "<?xml version=\"1.0\" encoding=\"UTF-8\" standalone=\"no\"?>\r\n",
       "<!DOCTYPE svg PUBLIC \"-//W3C//DTD SVG 1.1//EN\"\r\n",
       " \"http://www.w3.org/Graphics/SVG/1.1/DTD/svg11.dtd\">\r\n",
       "<!-- Generated by graphviz version 2.38.0 (20140413.2041)\r\n",
       " -->\r\n",
       "<!-- Title: %3 Pages: 1 -->\r\n",
       "<svg width=\"62pt\" height=\"260pt\"\r\n",
       " viewBox=\"0.00 0.00 62.00 260.00\" xmlns=\"http://www.w3.org/2000/svg\" xmlns:xlink=\"http://www.w3.org/1999/xlink\">\r\n",
       "<g id=\"graph0\" class=\"graph\" transform=\"scale(1 1) rotate(0) translate(4 256)\">\r\n",
       "<title>%3</title>\r\n",
       "<polygon fill=\"white\" stroke=\"none\" points=\"-4,4 -4,-256 58,-256 58,4 -4,4\"/>\r\n",
       "<!-- p5 -->\r\n",
       "<g id=\"node1\" class=\"node\"><title>p5</title>\r\n",
       "<ellipse fill=\"none\" stroke=\"black\" cx=\"27\" cy=\"-234\" rx=\"27\" ry=\"18\"/>\r\n",
       "<text text-anchor=\"middle\" x=\"27\" y=\"-230.3\" font-family=\"Times New Roman,serif\" font-size=\"14.00\">3^5</text>\r\n",
       "</g>\r\n",
       "<!-- p3 -->\r\n",
       "<g id=\"node2\" class=\"node\"><title>p3</title>\r\n",
       "<ellipse fill=\"none\" stroke=\"black\" cx=\"27\" cy=\"-162\" rx=\"27\" ry=\"18\"/>\r\n",
       "<text text-anchor=\"middle\" x=\"27\" y=\"-158.3\" font-family=\"Times New Roman,serif\" font-size=\"14.00\">3^3</text>\r\n",
       "</g>\r\n",
       "<!-- p5&#45;&gt;p3 -->\r\n",
       "<g id=\"edge1\" class=\"edge\"><title>p5&#45;&gt;p3</title>\r\n",
       "<path fill=\"none\" stroke=\"black\" d=\"M27,-215.697C27,-207.983 27,-198.712 27,-190.112\"/>\r\n",
       "<polygon fill=\"black\" stroke=\"black\" points=\"30.5001,-190.104 27,-180.104 23.5001,-190.104 30.5001,-190.104\"/>\r\n",
       "</g>\r\n",
       "<!-- p2ll -->\r\n",
       "<g id=\"node3\" class=\"node\"><title>p2ll</title>\r\n",
       "<ellipse fill=\"none\" stroke=\"black\" cx=\"27\" cy=\"-90\" rx=\"27\" ry=\"18\"/>\r\n",
       "<text text-anchor=\"middle\" x=\"27\" y=\"-86.3\" font-family=\"Times New Roman,serif\" font-size=\"14.00\">3^2</text>\r\n",
       "</g>\r\n",
       "<!-- p3&#45;&gt;p2ll -->\r\n",
       "<g id=\"edge2\" class=\"edge\"><title>p3&#45;&gt;p2ll</title>\r\n",
       "<path fill=\"none\" stroke=\"black\" d=\"M27,-143.697C27,-135.983 27,-126.712 27,-118.112\"/>\r\n",
       "<polygon fill=\"black\" stroke=\"black\" points=\"30.5001,-118.104 27,-108.104 23.5001,-118.104 30.5001,-118.104\"/>\r\n",
       "</g>\r\n",
       "<!-- p1llr -->\r\n",
       "<g id=\"node4\" class=\"node\"><title>p1llr</title>\r\n",
       "<ellipse fill=\"none\" stroke=\"black\" cx=\"27\" cy=\"-18\" rx=\"27\" ry=\"18\"/>\r\n",
       "<text text-anchor=\"middle\" x=\"27\" y=\"-14.3\" font-family=\"Times New Roman,serif\" font-size=\"14.00\">3^1</text>\r\n",
       "</g>\r\n",
       "<!-- p2ll&#45;&gt;p1llr -->\r\n",
       "<g id=\"edge3\" class=\"edge\"><title>p2ll&#45;&gt;p1llr</title>\r\n",
       "<path fill=\"none\" stroke=\"black\" d=\"M27,-71.6966C27,-63.9827 27,-54.7125 27,-46.1124\"/>\r\n",
       "<polygon fill=\"black\" stroke=\"black\" points=\"30.5001,-46.1043 27,-36.1043 23.5001,-46.1044 30.5001,-46.1043\"/>\r\n",
       "</g>\r\n",
       "</g>\r\n",
       "</svg>\r\n"
      ],
      "text/plain": [
       "<graphviz.dot.Digraph at 0x21e34107e08>"
      ]
     },
     "metadata": {},
     "output_type": "display_data"
    },
    {
     "data": {
      "image/svg+xml": [
       "<?xml version=\"1.0\" encoding=\"UTF-8\" standalone=\"no\"?>\r\n",
       "<!DOCTYPE svg PUBLIC \"-//W3C//DTD SVG 1.1//EN\"\r\n",
       " \"http://www.w3.org/Graphics/SVG/1.1/DTD/svg11.dtd\">\r\n",
       "<!-- Generated by graphviz version 2.38.0 (20140413.2041)\r\n",
       " -->\r\n",
       "<!-- Title: %3 Pages: 1 -->\r\n",
       "<svg width=\"62pt\" height=\"188pt\"\r\n",
       " viewBox=\"0.00 0.00 62.00 188.00\" xmlns=\"http://www.w3.org/2000/svg\" xmlns:xlink=\"http://www.w3.org/1999/xlink\">\r\n",
       "<g id=\"graph0\" class=\"graph\" transform=\"scale(1 1) rotate(0) translate(4 184)\">\r\n",
       "<title>%3</title>\r\n",
       "<polygon fill=\"white\" stroke=\"none\" points=\"-4,4 -4,-184 58,-184 58,4 -4,4\"/>\r\n",
       "<!-- p5 -->\r\n",
       "<g id=\"node1\" class=\"node\"><title>p5</title>\r\n",
       "<ellipse fill=\"none\" stroke=\"black\" cx=\"27\" cy=\"-162\" rx=\"27\" ry=\"18\"/>\r\n",
       "<text text-anchor=\"middle\" x=\"27\" y=\"-158.3\" font-family=\"Times New Roman,serif\" font-size=\"14.00\">3^5</text>\r\n",
       "</g>\r\n",
       "<!-- p3 -->\r\n",
       "<g id=\"node2\" class=\"node\"><title>p3</title>\r\n",
       "<ellipse fill=\"none\" stroke=\"black\" cx=\"27\" cy=\"-90\" rx=\"27\" ry=\"18\"/>\r\n",
       "<text text-anchor=\"middle\" x=\"27\" y=\"-86.3\" font-family=\"Times New Roman,serif\" font-size=\"14.00\">3^3</text>\r\n",
       "</g>\r\n",
       "<!-- p5&#45;&gt;p3 -->\r\n",
       "<g id=\"edge1\" class=\"edge\"><title>p5&#45;&gt;p3</title>\r\n",
       "<path fill=\"none\" stroke=\"black\" d=\"M27,-143.697C27,-135.983 27,-126.712 27,-118.112\"/>\r\n",
       "<polygon fill=\"black\" stroke=\"black\" points=\"30.5001,-118.104 27,-108.104 23.5001,-118.104 30.5001,-118.104\"/>\r\n",
       "</g>\r\n",
       "<!-- p1lr -->\r\n",
       "<g id=\"node3\" class=\"node\"><title>p1lr</title>\r\n",
       "<ellipse fill=\"none\" stroke=\"black\" cx=\"27\" cy=\"-18\" rx=\"27\" ry=\"18\"/>\r\n",
       "<text text-anchor=\"middle\" x=\"27\" y=\"-14.3\" font-family=\"Times New Roman,serif\" font-size=\"14.00\">3^1</text>\r\n",
       "</g>\r\n",
       "<!-- p3&#45;&gt;p1lr -->\r\n",
       "<g id=\"edge2\" class=\"edge\"><title>p3&#45;&gt;p1lr</title>\r\n",
       "<path fill=\"none\" stroke=\"black\" d=\"M27,-71.6966C27,-63.9827 27,-54.7125 27,-46.1124\"/>\r\n",
       "<polygon fill=\"black\" stroke=\"black\" points=\"30.5001,-46.1043 27,-36.1043 23.5001,-46.1044 30.5001,-46.1043\"/>\r\n",
       "</g>\r\n",
       "</g>\r\n",
       "</svg>\r\n"
      ],
      "text/plain": [
       "<graphviz.dot.Digraph at 0x21e3412c708>"
      ]
     },
     "metadata": {},
     "output_type": "display_data"
    },
    {
     "data": {
      "image/svg+xml": [
       "<?xml version=\"1.0\" encoding=\"UTF-8\" standalone=\"no\"?>\r\n",
       "<!DOCTYPE svg PUBLIC \"-//W3C//DTD SVG 1.1//EN\"\r\n",
       " \"http://www.w3.org/Graphics/SVG/1.1/DTD/svg11.dtd\">\r\n",
       "<!-- Generated by graphviz version 2.38.0 (20140413.2041)\r\n",
       " -->\r\n",
       "<!-- Title: %3 Pages: 1 -->\r\n",
       "<svg width=\"62pt\" height=\"116pt\"\r\n",
       " viewBox=\"0.00 0.00 62.00 116.00\" xmlns=\"http://www.w3.org/2000/svg\" xmlns:xlink=\"http://www.w3.org/1999/xlink\">\r\n",
       "<g id=\"graph0\" class=\"graph\" transform=\"scale(1 1) rotate(0) translate(4 112)\">\r\n",
       "<title>%3</title>\r\n",
       "<polygon fill=\"white\" stroke=\"none\" points=\"-4,4 -4,-112 58,-112 58,4 -4,4\"/>\r\n",
       "<!-- p5 -->\r\n",
       "<g id=\"node1\" class=\"node\"><title>p5</title>\r\n",
       "<ellipse fill=\"none\" stroke=\"black\" cx=\"27\" cy=\"-90\" rx=\"27\" ry=\"18\"/>\r\n",
       "<text text-anchor=\"middle\" x=\"27\" y=\"-86.3\" font-family=\"Times New Roman,serif\" font-size=\"14.00\">3^5</text>\r\n",
       "</g>\r\n",
       "<!-- p2r -->\r\n",
       "<g id=\"node2\" class=\"node\"><title>p2r</title>\r\n",
       "<ellipse fill=\"none\" stroke=\"black\" cx=\"27\" cy=\"-18\" rx=\"27\" ry=\"18\"/>\r\n",
       "<text text-anchor=\"middle\" x=\"27\" y=\"-14.3\" font-family=\"Times New Roman,serif\" font-size=\"14.00\">3^2</text>\r\n",
       "</g>\r\n",
       "<!-- p5&#45;&gt;p2r -->\r\n",
       "<g id=\"edge1\" class=\"edge\"><title>p5&#45;&gt;p2r</title>\r\n",
       "<path fill=\"none\" stroke=\"black\" d=\"M27,-71.6966C27,-63.9827 27,-54.7125 27,-46.1124\"/>\r\n",
       "<polygon fill=\"black\" stroke=\"black\" points=\"30.5001,-46.1043 27,-36.1043 23.5001,-46.1044 30.5001,-46.1043\"/>\r\n",
       "</g>\r\n",
       "</g>\r\n",
       "</svg>\r\n"
      ],
      "text/plain": [
       "<graphviz.dot.Digraph at 0x21e3412ce88>"
      ]
     },
     "metadata": {},
     "output_type": "display_data"
    },
    {
     "data": {
      "image/svg+xml": [
       "<?xml version=\"1.0\" encoding=\"UTF-8\" standalone=\"no\"?>\r\n",
       "<!DOCTYPE svg PUBLIC \"-//W3C//DTD SVG 1.1//EN\"\r\n",
       " \"http://www.w3.org/Graphics/SVG/1.1/DTD/svg11.dtd\">\r\n",
       "<!-- Generated by graphviz version 2.38.0 (20140413.2041)\r\n",
       " -->\r\n",
       "<!-- Title: %3 Pages: 1 -->\r\n",
       "<svg width=\"62pt\" height=\"188pt\"\r\n",
       " viewBox=\"0.00 0.00 62.00 188.00\" xmlns=\"http://www.w3.org/2000/svg\" xmlns:xlink=\"http://www.w3.org/1999/xlink\">\r\n",
       "<g id=\"graph0\" class=\"graph\" transform=\"scale(1 1) rotate(0) translate(4 184)\">\r\n",
       "<title>%3</title>\r\n",
       "<polygon fill=\"white\" stroke=\"none\" points=\"-4,4 -4,-184 58,-184 58,4 -4,4\"/>\r\n",
       "<!-- p5 -->\r\n",
       "<g id=\"node1\" class=\"node\"><title>p5</title>\r\n",
       "<ellipse fill=\"none\" stroke=\"black\" cx=\"27\" cy=\"-162\" rx=\"27\" ry=\"18\"/>\r\n",
       "<text text-anchor=\"middle\" x=\"27\" y=\"-158.3\" font-family=\"Times New Roman,serif\" font-size=\"14.00\">3^5</text>\r\n",
       "</g>\r\n",
       "<!-- p2r -->\r\n",
       "<g id=\"node2\" class=\"node\"><title>p2r</title>\r\n",
       "<ellipse fill=\"none\" stroke=\"black\" cx=\"27\" cy=\"-90\" rx=\"27\" ry=\"18\"/>\r\n",
       "<text text-anchor=\"middle\" x=\"27\" y=\"-86.3\" font-family=\"Times New Roman,serif\" font-size=\"14.00\">3^2</text>\r\n",
       "</g>\r\n",
       "<!-- p5&#45;&gt;p2r -->\r\n",
       "<g id=\"edge1\" class=\"edge\"><title>p5&#45;&gt;p2r</title>\r\n",
       "<path fill=\"none\" stroke=\"black\" d=\"M27,-143.697C27,-135.983 27,-126.712 27,-118.112\"/>\r\n",
       "<polygon fill=\"black\" stroke=\"black\" points=\"30.5001,-118.104 27,-108.104 23.5001,-118.104 30.5001,-118.104\"/>\r\n",
       "</g>\r\n",
       "<!-- p1rl -->\r\n",
       "<g id=\"node3\" class=\"node\"><title>p1rl</title>\r\n",
       "<ellipse fill=\"none\" stroke=\"black\" cx=\"27\" cy=\"-18\" rx=\"27\" ry=\"18\"/>\r\n",
       "<text text-anchor=\"middle\" x=\"27\" y=\"-14.3\" font-family=\"Times New Roman,serif\" font-size=\"14.00\">3^1</text>\r\n",
       "</g>\r\n",
       "<!-- p2r&#45;&gt;p1rl -->\r\n",
       "<g id=\"edge2\" class=\"edge\"><title>p2r&#45;&gt;p1rl</title>\r\n",
       "<path fill=\"none\" stroke=\"black\" d=\"M27,-71.6966C27,-63.9827 27,-54.7125 27,-46.1124\"/>\r\n",
       "<polygon fill=\"black\" stroke=\"black\" points=\"30.5001,-46.1043 27,-36.1043 23.5001,-46.1044 30.5001,-46.1043\"/>\r\n",
       "</g>\r\n",
       "</g>\r\n",
       "</svg>\r\n"
      ],
      "text/plain": [
       "<graphviz.dot.Digraph at 0x21e3316b4c8>"
      ]
     },
     "metadata": {},
     "output_type": "display_data"
    },
    {
     "data": {
      "image/svg+xml": [
       "<?xml version=\"1.0\" encoding=\"UTF-8\" standalone=\"no\"?>\r\n",
       "<!DOCTYPE svg PUBLIC \"-//W3C//DTD SVG 1.1//EN\"\r\n",
       " \"http://www.w3.org/Graphics/SVG/1.1/DTD/svg11.dtd\">\r\n",
       "<!-- Generated by graphviz version 2.38.0 (20140413.2041)\r\n",
       " -->\r\n",
       "<!-- Title: %3 Pages: 1 -->\r\n",
       "<svg width=\"62pt\" height=\"188pt\"\r\n",
       " viewBox=\"0.00 0.00 62.00 188.00\" xmlns=\"http://www.w3.org/2000/svg\" xmlns:xlink=\"http://www.w3.org/1999/xlink\">\r\n",
       "<g id=\"graph0\" class=\"graph\" transform=\"scale(1 1) rotate(0) translate(4 184)\">\r\n",
       "<title>%3</title>\r\n",
       "<polygon fill=\"white\" stroke=\"none\" points=\"-4,4 -4,-184 58,-184 58,4 -4,4\"/>\r\n",
       "<!-- p5 -->\r\n",
       "<g id=\"node1\" class=\"node\"><title>p5</title>\r\n",
       "<ellipse fill=\"none\" stroke=\"black\" cx=\"27\" cy=\"-162\" rx=\"27\" ry=\"18\"/>\r\n",
       "<text text-anchor=\"middle\" x=\"27\" y=\"-158.3\" font-family=\"Times New Roman,serif\" font-size=\"14.00\">3^5</text>\r\n",
       "</g>\r\n",
       "<!-- p2r -->\r\n",
       "<g id=\"node2\" class=\"node\"><title>p2r</title>\r\n",
       "<ellipse fill=\"none\" stroke=\"black\" cx=\"27\" cy=\"-90\" rx=\"27\" ry=\"18\"/>\r\n",
       "<text text-anchor=\"middle\" x=\"27\" y=\"-86.3\" font-family=\"Times New Roman,serif\" font-size=\"14.00\">3^2</text>\r\n",
       "</g>\r\n",
       "<!-- p5&#45;&gt;p2r -->\r\n",
       "<g id=\"edge1\" class=\"edge\"><title>p5&#45;&gt;p2r</title>\r\n",
       "<path fill=\"none\" stroke=\"black\" d=\"M27,-143.697C27,-135.983 27,-126.712 27,-118.112\"/>\r\n",
       "<polygon fill=\"black\" stroke=\"black\" points=\"30.5001,-118.104 27,-108.104 23.5001,-118.104 30.5001,-118.104\"/>\r\n",
       "</g>\r\n",
       "<!-- p1rl -->\r\n",
       "<g id=\"node3\" class=\"node\"><title>p1rl</title>\r\n",
       "<ellipse fill=\"none\" stroke=\"black\" cx=\"27\" cy=\"-18\" rx=\"27\" ry=\"18\"/>\r\n",
       "<text text-anchor=\"middle\" x=\"27\" y=\"-14.3\" font-family=\"Times New Roman,serif\" font-size=\"14.00\">3^1</text>\r\n",
       "</g>\r\n",
       "<!-- p2r&#45;&gt;p1rl -->\r\n",
       "<g id=\"edge2\" class=\"edge\"><title>p2r&#45;&gt;p1rl</title>\r\n",
       "<path fill=\"none\" stroke=\"black\" d=\"M27,-71.6966C27,-63.9827 27,-54.7125 27,-46.1124\"/>\r\n",
       "<polygon fill=\"black\" stroke=\"black\" points=\"30.5001,-46.1043 27,-36.1043 23.5001,-46.1044 30.5001,-46.1043\"/>\r\n",
       "</g>\r\n",
       "</g>\r\n",
       "</svg>\r\n"
      ],
      "text/plain": [
       "<graphviz.dot.Digraph at 0x21e341071c8>"
      ]
     },
     "metadata": {},
     "output_type": "display_data"
    },
    {
     "data": {
      "image/svg+xml": [
       "<?xml version=\"1.0\" encoding=\"UTF-8\" standalone=\"no\"?>\r\n",
       "<!DOCTYPE svg PUBLIC \"-//W3C//DTD SVG 1.1//EN\"\r\n",
       " \"http://www.w3.org/Graphics/SVG/1.1/DTD/svg11.dtd\">\r\n",
       "<!-- Generated by graphviz version 2.38.0 (20140413.2041)\r\n",
       " -->\r\n",
       "<!-- Title: %3 Pages: 1 -->\r\n",
       "<svg width=\"62pt\" height=\"188pt\"\r\n",
       " viewBox=\"0.00 0.00 62.00 188.00\" xmlns=\"http://www.w3.org/2000/svg\" xmlns:xlink=\"http://www.w3.org/1999/xlink\">\r\n",
       "<g id=\"graph0\" class=\"graph\" transform=\"scale(1 1) rotate(0) translate(4 184)\">\r\n",
       "<title>%3</title>\r\n",
       "<polygon fill=\"white\" stroke=\"none\" points=\"-4,4 -4,-184 58,-184 58,4 -4,4\"/>\r\n",
       "<!-- p5 -->\r\n",
       "<g id=\"node1\" class=\"node\"><title>p5</title>\r\n",
       "<ellipse fill=\"none\" stroke=\"black\" cx=\"27\" cy=\"-162\" rx=\"27\" ry=\"18\"/>\r\n",
       "<text text-anchor=\"middle\" x=\"27\" y=\"-158.3\" font-family=\"Times New Roman,serif\" font-size=\"14.00\">3^5</text>\r\n",
       "</g>\r\n",
       "<!-- p2r -->\r\n",
       "<g id=\"node2\" class=\"node\"><title>p2r</title>\r\n",
       "<ellipse fill=\"none\" stroke=\"black\" cx=\"27\" cy=\"-90\" rx=\"27\" ry=\"18\"/>\r\n",
       "<text text-anchor=\"middle\" x=\"27\" y=\"-86.3\" font-family=\"Times New Roman,serif\" font-size=\"14.00\">3^2</text>\r\n",
       "</g>\r\n",
       "<!-- p5&#45;&gt;p2r -->\r\n",
       "<g id=\"edge1\" class=\"edge\"><title>p5&#45;&gt;p2r</title>\r\n",
       "<path fill=\"none\" stroke=\"black\" d=\"M27,-143.697C27,-135.983 27,-126.712 27,-118.112\"/>\r\n",
       "<polygon fill=\"black\" stroke=\"black\" points=\"30.5001,-118.104 27,-108.104 23.5001,-118.104 30.5001,-118.104\"/>\r\n",
       "</g>\r\n",
       "<!-- p1rr -->\r\n",
       "<g id=\"node3\" class=\"node\"><title>p1rr</title>\r\n",
       "<ellipse fill=\"none\" stroke=\"black\" cx=\"27\" cy=\"-18\" rx=\"27\" ry=\"18\"/>\r\n",
       "<text text-anchor=\"middle\" x=\"27\" y=\"-14.3\" font-family=\"Times New Roman,serif\" font-size=\"14.00\">3^1</text>\r\n",
       "</g>\r\n",
       "<!-- p2r&#45;&gt;p1rr -->\r\n",
       "<g id=\"edge2\" class=\"edge\"><title>p2r&#45;&gt;p1rr</title>\r\n",
       "<path fill=\"none\" stroke=\"black\" d=\"M27,-71.6966C27,-63.9827 27,-54.7125 27,-46.1124\"/>\r\n",
       "<polygon fill=\"black\" stroke=\"black\" points=\"30.5001,-46.1043 27,-36.1043 23.5001,-46.1044 30.5001,-46.1043\"/>\r\n",
       "</g>\r\n",
       "</g>\r\n",
       "</svg>\r\n"
      ],
      "text/plain": [
       "<graphviz.dot.Digraph at 0x21e34107848>"
      ]
     },
     "metadata": {},
     "output_type": "display_data"
    },
    {
     "data": {
      "image/svg+xml": [
       "<?xml version=\"1.0\" encoding=\"UTF-8\" standalone=\"no\"?>\r\n",
       "<!DOCTYPE svg PUBLIC \"-//W3C//DTD SVG 1.1//EN\"\r\n",
       " \"http://www.w3.org/Graphics/SVG/1.1/DTD/svg11.dtd\">\r\n",
       "<!-- Generated by graphviz version 2.38.0 (20140413.2041)\r\n",
       " -->\r\n",
       "<!-- Title: %3 Pages: 1 -->\r\n",
       "<svg width=\"62pt\" height=\"116pt\"\r\n",
       " viewBox=\"0.00 0.00 62.00 116.00\" xmlns=\"http://www.w3.org/2000/svg\" xmlns:xlink=\"http://www.w3.org/1999/xlink\">\r\n",
       "<g id=\"graph0\" class=\"graph\" transform=\"scale(1 1) rotate(0) translate(4 112)\">\r\n",
       "<title>%3</title>\r\n",
       "<polygon fill=\"white\" stroke=\"none\" points=\"-4,4 -4,-112 58,-112 58,4 -4,4\"/>\r\n",
       "<!-- p5 -->\r\n",
       "<g id=\"node1\" class=\"node\"><title>p5</title>\r\n",
       "<ellipse fill=\"none\" stroke=\"black\" cx=\"27\" cy=\"-90\" rx=\"27\" ry=\"18\"/>\r\n",
       "<text text-anchor=\"middle\" x=\"27\" y=\"-86.3\" font-family=\"Times New Roman,serif\" font-size=\"14.00\">3^5</text>\r\n",
       "</g>\r\n",
       "<!-- p2r -->\r\n",
       "<g id=\"node2\" class=\"node\"><title>p2r</title>\r\n",
       "<ellipse fill=\"none\" stroke=\"black\" cx=\"27\" cy=\"-18\" rx=\"27\" ry=\"18\"/>\r\n",
       "<text text-anchor=\"middle\" x=\"27\" y=\"-14.3\" font-family=\"Times New Roman,serif\" font-size=\"14.00\">3^2</text>\r\n",
       "</g>\r\n",
       "<!-- p5&#45;&gt;p2r -->\r\n",
       "<g id=\"edge1\" class=\"edge\"><title>p5&#45;&gt;p2r</title>\r\n",
       "<path fill=\"none\" stroke=\"black\" d=\"M27,-71.6966C27,-63.9827 27,-54.7125 27,-46.1124\"/>\r\n",
       "<polygon fill=\"black\" stroke=\"black\" points=\"30.5001,-46.1043 27,-36.1043 23.5001,-46.1044 30.5001,-46.1043\"/>\r\n",
       "</g>\r\n",
       "</g>\r\n",
       "</svg>\r\n"
      ],
      "text/plain": [
       "<graphviz.dot.Digraph at 0x21e3316b4c8>"
      ]
     },
     "metadata": {},
     "output_type": "display_data"
    },
    {
     "data": {
      "image/svg+xml": [
       "<?xml version=\"1.0\" encoding=\"UTF-8\" standalone=\"no\"?>\r\n",
       "<!DOCTYPE svg PUBLIC \"-//W3C//DTD SVG 1.1//EN\"\r\n",
       " \"http://www.w3.org/Graphics/SVG/1.1/DTD/svg11.dtd\">\r\n",
       "<!-- Generated by graphviz version 2.38.0 (20140413.2041)\r\n",
       " -->\r\n",
       "<!-- Title: %3 Pages: 1 -->\r\n",
       "<svg width=\"62pt\" height=\"116pt\"\r\n",
       " viewBox=\"0.00 0.00 62.00 116.00\" xmlns=\"http://www.w3.org/2000/svg\" xmlns:xlink=\"http://www.w3.org/1999/xlink\">\r\n",
       "<g id=\"graph0\" class=\"graph\" transform=\"scale(1 1) rotate(0) translate(4 112)\">\r\n",
       "<title>%3</title>\r\n",
       "<polygon fill=\"white\" stroke=\"none\" points=\"-4,4 -4,-112 58,-112 58,4 -4,4\"/>\r\n",
       "<!-- p5 -->\r\n",
       "<g id=\"node1\" class=\"node\"><title>p5</title>\r\n",
       "<ellipse fill=\"none\" stroke=\"black\" cx=\"27\" cy=\"-90\" rx=\"27\" ry=\"18\"/>\r\n",
       "<text text-anchor=\"middle\" x=\"27\" y=\"-86.3\" font-family=\"Times New Roman,serif\" font-size=\"14.00\">3^5</text>\r\n",
       "</g>\r\n",
       "<!-- p2r -->\r\n",
       "<g id=\"node2\" class=\"node\"><title>p2r</title>\r\n",
       "<ellipse fill=\"none\" stroke=\"black\" cx=\"27\" cy=\"-18\" rx=\"27\" ry=\"18\"/>\r\n",
       "<text text-anchor=\"middle\" x=\"27\" y=\"-14.3\" font-family=\"Times New Roman,serif\" font-size=\"14.00\">3^2</text>\r\n",
       "</g>\r\n",
       "<!-- p5&#45;&gt;p2r -->\r\n",
       "<g id=\"edge1\" class=\"edge\"><title>p5&#45;&gt;p2r</title>\r\n",
       "<path fill=\"none\" stroke=\"black\" d=\"M27,-71.6966C27,-63.9827 27,-54.7125 27,-46.1124\"/>\r\n",
       "<polygon fill=\"black\" stroke=\"black\" points=\"30.5001,-46.1043 27,-36.1043 23.5001,-46.1044 30.5001,-46.1043\"/>\r\n",
       "</g>\r\n",
       "</g>\r\n",
       "</svg>\r\n"
      ],
      "text/plain": [
       "<graphviz.dot.Digraph at 0x21e3316b4c8>"
      ]
     },
     "metadata": {},
     "output_type": "display_data"
    }
   ],
   "source": [
    "dot = Digraph()\n",
    "\n",
    "dot.node('p5','3^5')\n",
    "dot.node('p3','3^3')\n",
    "\n",
    "\n",
    "dot.edge('p5','p3')\n",
    "\n",
    "\n",
    "\n",
    "display(dot)\n",
    "\n",
    "dot = Digraph()\n",
    "\n",
    "dot.node('p5','3^5')\n",
    "dot.node('p3','3^3')\n",
    "dot.node('p2ll','3^2')\n",
    "\n",
    "\n",
    "dot.edge('p5','p3')\n",
    "dot.edge('p3','p2ll')\n",
    "\n",
    "display(dot)\n",
    "\n",
    "dot = Digraph()\n",
    "\n",
    "dot.node('p5','3^5')\n",
    "dot.node('p3','3^3')\n",
    "dot.node('p2ll','3^2')\n",
    "dot.node('p1lll','3^1')\n",
    "\n",
    "dot.edge('p5','p3')\n",
    "dot.edge('p3','p2ll')\n",
    "dot.edge('p2ll','p1lll')\n",
    "\n",
    "display(dot)\n",
    "\n",
    "dot = Digraph()\n",
    "\n",
    "dot.node('p5','3^5')\n",
    "dot.node('p3','3^3')\n",
    "dot.node('p2ll','3^2')\n",
    "dot.node('p1llr','3^1')\n",
    "\n",
    "dot.edge('p5','p3')\n",
    "dot.edge('p3','p2ll')\n",
    "dot.edge('p2ll','p1llr')\n",
    "\n",
    "display(dot)\n",
    "\n",
    "dot = Digraph()\n",
    "\n",
    "dot.node('p5','3^5')\n",
    "dot.node('p3','3^3')\n",
    "dot.node('p1lr','3^1')\n",
    "\n",
    "dot.edge('p5','p3')\n",
    "dot.edge('p3','p1lr')\n",
    "\n",
    "\n",
    "\n",
    "display(dot)\n",
    "\n",
    "dot = Digraph()\n",
    "\n",
    "dot.node('p5','3^5')\n",
    "dot.node('p2r','3^2')\n",
    "\n",
    "\n",
    "dot.edge('p5','p2r')\n",
    "\n",
    "\n",
    "display(dot)\n",
    "\n",
    "dot = Digraph()\n",
    "\n",
    "dot.node('p5','3^5')\n",
    "dot.node('p2r','3^2')\n",
    "dot.node('p1rl','3^1')\n",
    "\n",
    "\n",
    "dot.edge('p5','p2r')\n",
    "dot.edge('p2r','p1rl')\n",
    "\n",
    "\n",
    "display(dot)\n",
    "\n",
    "dot = Digraph()\n",
    "\n",
    "dot.node('p5','3^5')\n",
    "dot.node('p2r','3^2')\n",
    "dot.node('p1rl','3^1')\n",
    "\n",
    "\n",
    "dot.edge('p5','p2r')\n",
    "dot.edge('p2r','p1rl')\n",
    "\n",
    "\n",
    "display(dot)\n",
    "\n",
    "dot = Digraph()\n",
    "\n",
    "dot.node('p5','3^5')\n",
    "dot.node('p2r','3^2')\n",
    "dot.node('p1rr','3^1')\n",
    "\n",
    "\n",
    "dot.edge('p5','p2r')\n",
    "dot.edge('p2r','p1rr')\n",
    "\n",
    "\n",
    "display(dot)\n",
    "\n",
    "dot = Digraph()\n",
    "\n",
    "dot.node('p5','3^5')\n",
    "dot.node('p2r','3^2')\n",
    "\n",
    "dot.edge('p5','p2r')\n",
    "\n",
    "display(dot)\n",
    "\n",
    "dot.node('p5','3^5')\n",
    "\n",
    "\n",
    "display(dot)"
   ]
  },
  {
   "cell_type": "markdown",
   "metadata": {},
   "source": [
    "...perhaps better drawn as:"
   ]
  },
  {
   "cell_type": "code",
   "execution_count": 216,
   "metadata": {},
   "outputs": [
    {
     "data": {
      "image/svg+xml": [
       "<?xml version=\"1.0\" encoding=\"UTF-8\" standalone=\"no\"?>\r\n",
       "<!DOCTYPE svg PUBLIC \"-//W3C//DTD SVG 1.1//EN\"\r\n",
       " \"http://www.w3.org/Graphics/SVG/1.1/DTD/svg11.dtd\">\r\n",
       "<!-- Generated by graphviz version 2.38.0 (20140413.2041)\r\n",
       " -->\r\n",
       "<!-- Title: %3 Pages: 1 -->\r\n",
       "<svg width=\"72pt\" height=\"1896pt\"\r\n",
       " viewBox=\"0.00 0.00 71.69 1896.00\" xmlns=\"http://www.w3.org/2000/svg\" xmlns:xlink=\"http://www.w3.org/1999/xlink\">\r\n",
       "<g id=\"graph0\" class=\"graph\" transform=\"scale(1 1) rotate(0) translate(4 1892)\">\r\n",
       "<title>%3</title>\r\n",
       "<polygon fill=\"white\" stroke=\"none\" points=\"-4,4 -4,-1892 67.6943,-1892 67.6943,4 -4,4\"/>\r\n",
       "<!-- 1 -->\r\n",
       "<g id=\"node1\" class=\"node\"><title>1</title>\r\n",
       "<polygon fill=\"none\" stroke=\"black\" points=\"4.84717,-1851.5 4.84717,-1887.5 58.8472,-1887.5 58.8472,-1851.5 4.84717,-1851.5\"/>\r\n",
       "<text text-anchor=\"middle\" x=\"31.8472\" y=\"-1865.8\" font-family=\"Times New Roman,serif\" font-size=\"14.00\">3^5</text>\r\n",
       "</g>\r\n",
       "<!-- 2 -->\r\n",
       "<g id=\"node2\" class=\"node\"><title>2</title>\r\n",
       "<polygon fill=\"none\" stroke=\"black\" points=\"4.84717,-1753.5 4.84717,-1799.5 58.8472,-1799.5 58.8472,-1753.5 4.84717,-1753.5\"/>\r\n",
       "<text text-anchor=\"middle\" x=\"31.8472\" y=\"-1784.3\" font-family=\"Times New Roman,serif\" font-size=\"14.00\">3^3</text>\r\n",
       "<polyline fill=\"none\" stroke=\"black\" points=\"4.84717,-1776.5 58.8472,-1776.5 \"/>\r\n",
       "<text text-anchor=\"middle\" x=\"31.8472\" y=\"-1761.3\" font-family=\"Times New Roman,serif\" font-size=\"14.00\">3^5</text>\r\n",
       "</g>\r\n",
       "<!-- 1&#45;&gt;2 -->\r\n",
       "<g id=\"edge1\" class=\"edge\"><title>1&#45;&gt;2</title>\r\n",
       "<path fill=\"none\" stroke=\"black\" d=\"M31.8472,-1851.38C31.8472,-1839.73 31.8472,-1823.95 31.8472,-1809.96\"/>\r\n",
       "<polygon fill=\"black\" stroke=\"black\" points=\"35.3473,-1809.71 31.8472,-1799.71 28.3473,-1809.71 35.3473,-1809.71\"/>\r\n",
       "<text text-anchor=\"middle\" x=\"45.8472\" y=\"-1821.8\" font-family=\"Times New Roman,serif\" font-size=\"14.00\">push</text>\r\n",
       "</g>\r\n",
       "<!-- 3 -->\r\n",
       "<g id=\"node3\" class=\"node\"><title>3</title>\r\n",
       "<polygon fill=\"none\" stroke=\"black\" points=\"4.84717,-1632.5 4.84717,-1701.5 58.8472,-1701.5 58.8472,-1632.5 4.84717,-1632.5\"/>\r\n",
       "<text text-anchor=\"middle\" x=\"31.8472\" y=\"-1686.3\" font-family=\"Times New Roman,serif\" font-size=\"14.00\">3^2</text>\r\n",
       "<polyline fill=\"none\" stroke=\"black\" points=\"4.84717,-1678.5 58.8472,-1678.5 \"/>\r\n",
       "<text text-anchor=\"middle\" x=\"31.8472\" y=\"-1663.3\" font-family=\"Times New Roman,serif\" font-size=\"14.00\">3^3</text>\r\n",
       "<polyline fill=\"none\" stroke=\"black\" points=\"4.84717,-1655.5 58.8472,-1655.5 \"/>\r\n",
       "<text text-anchor=\"middle\" x=\"31.8472\" y=\"-1640.3\" font-family=\"Times New Roman,serif\" font-size=\"14.00\">3^5</text>\r\n",
       "</g>\r\n",
       "<!-- 2&#45;&gt;3 -->\r\n",
       "<g id=\"edge2\" class=\"edge\"><title>2&#45;&gt;3</title>\r\n",
       "<path fill=\"none\" stroke=\"black\" d=\"M31.8472,-1753.49C31.8472,-1741.52 31.8472,-1726.3 31.8472,-1712.01\"/>\r\n",
       "<polygon fill=\"black\" stroke=\"black\" points=\"35.3473,-1711.84 31.8472,-1701.84 28.3473,-1711.84 35.3473,-1711.84\"/>\r\n",
       "<text text-anchor=\"middle\" x=\"45.8472\" y=\"-1723.8\" font-family=\"Times New Roman,serif\" font-size=\"14.00\">push</text>\r\n",
       "</g>\r\n",
       "<!-- 4 -->\r\n",
       "<g id=\"node4\" class=\"node\"><title>4</title>\r\n",
       "<polygon fill=\"none\" stroke=\"black\" points=\"4.84717,-1488.5 4.84717,-1580.5 58.8472,-1580.5 58.8472,-1488.5 4.84717,-1488.5\"/>\r\n",
       "<text text-anchor=\"middle\" x=\"31.8472\" y=\"-1565.3\" font-family=\"Times New Roman,serif\" font-size=\"14.00\">3^1</text>\r\n",
       "<polyline fill=\"none\" stroke=\"black\" points=\"4.84717,-1557.5 58.8472,-1557.5 \"/>\r\n",
       "<text text-anchor=\"middle\" x=\"31.8472\" y=\"-1542.3\" font-family=\"Times New Roman,serif\" font-size=\"14.00\">3^2</text>\r\n",
       "<polyline fill=\"none\" stroke=\"black\" points=\"4.84717,-1534.5 58.8472,-1534.5 \"/>\r\n",
       "<text text-anchor=\"middle\" x=\"31.8472\" y=\"-1519.3\" font-family=\"Times New Roman,serif\" font-size=\"14.00\">3^3</text>\r\n",
       "<polyline fill=\"none\" stroke=\"black\" points=\"4.84717,-1511.5 58.8472,-1511.5 \"/>\r\n",
       "<text text-anchor=\"middle\" x=\"31.8472\" y=\"-1496.3\" font-family=\"Times New Roman,serif\" font-size=\"14.00\">3^5</text>\r\n",
       "</g>\r\n",
       "<!-- 3&#45;&gt;4 -->\r\n",
       "<g id=\"edge3\" class=\"edge\"><title>3&#45;&gt;4</title>\r\n",
       "<path fill=\"none\" stroke=\"black\" d=\"M31.8472,-1632.39C31.8472,-1619.75 31.8472,-1605.02 31.8472,-1590.92\"/>\r\n",
       "<polygon fill=\"black\" stroke=\"black\" points=\"35.3473,-1590.8 31.8472,-1580.8 28.3473,-1590.8 35.3473,-1590.8\"/>\r\n",
       "<text text-anchor=\"middle\" x=\"45.8472\" y=\"-1602.8\" font-family=\"Times New Roman,serif\" font-size=\"14.00\">push</text>\r\n",
       "</g>\r\n",
       "<!-- 5 -->\r\n",
       "<g id=\"node5\" class=\"node\"><title>5</title>\r\n",
       "<polygon fill=\"none\" stroke=\"black\" points=\"4.84717,-1367.5 4.84717,-1436.5 58.8472,-1436.5 58.8472,-1367.5 4.84717,-1367.5\"/>\r\n",
       "<text text-anchor=\"middle\" x=\"31.8472\" y=\"-1421.3\" font-family=\"Times New Roman,serif\" font-size=\"14.00\">3^2</text>\r\n",
       "<polyline fill=\"none\" stroke=\"black\" points=\"4.84717,-1413.5 58.8472,-1413.5 \"/>\r\n",
       "<text text-anchor=\"middle\" x=\"31.8472\" y=\"-1398.3\" font-family=\"Times New Roman,serif\" font-size=\"14.00\">3^3</text>\r\n",
       "<polyline fill=\"none\" stroke=\"black\" points=\"4.84717,-1390.5 58.8472,-1390.5 \"/>\r\n",
       "<text text-anchor=\"middle\" x=\"31.8472\" y=\"-1375.3\" font-family=\"Times New Roman,serif\" font-size=\"14.00\">3^5</text>\r\n",
       "</g>\r\n",
       "<!-- 4&#45;&gt;5 -->\r\n",
       "<g id=\"edge4\" class=\"edge\"><title>4&#45;&gt;5</title>\r\n",
       "<path fill=\"none\" stroke=\"black\" d=\"M31.8472,-1488.22C31.8472,-1474.86 31.8472,-1460.27 31.8472,-1446.99\"/>\r\n",
       "<polygon fill=\"black\" stroke=\"black\" points=\"35.3473,-1446.67 31.8472,-1436.67 28.3473,-1446.67 35.3473,-1446.67\"/>\r\n",
       "<text text-anchor=\"middle\" x=\"43.3472\" y=\"-1458.8\" font-family=\"Times New Roman,serif\" font-size=\"14.00\">pop</text>\r\n",
       "</g>\r\n",
       "<!-- 6 -->\r\n",
       "<g id=\"node6\" class=\"node\"><title>6</title>\r\n",
       "<polygon fill=\"none\" stroke=\"black\" points=\"4.84717,-1223.5 4.84717,-1315.5 58.8472,-1315.5 58.8472,-1223.5 4.84717,-1223.5\"/>\r\n",
       "<text text-anchor=\"middle\" x=\"31.8472\" y=\"-1300.3\" font-family=\"Times New Roman,serif\" font-size=\"14.00\">3^1</text>\r\n",
       "<polyline fill=\"none\" stroke=\"black\" points=\"4.84717,-1292.5 58.8472,-1292.5 \"/>\r\n",
       "<text text-anchor=\"middle\" x=\"31.8472\" y=\"-1277.3\" font-family=\"Times New Roman,serif\" font-size=\"14.00\">3^2</text>\r\n",
       "<polyline fill=\"none\" stroke=\"black\" points=\"4.84717,-1269.5 58.8472,-1269.5 \"/>\r\n",
       "<text text-anchor=\"middle\" x=\"31.8472\" y=\"-1254.3\" font-family=\"Times New Roman,serif\" font-size=\"14.00\">3^3</text>\r\n",
       "<polyline fill=\"none\" stroke=\"black\" points=\"4.84717,-1246.5 58.8472,-1246.5 \"/>\r\n",
       "<text text-anchor=\"middle\" x=\"31.8472\" y=\"-1231.3\" font-family=\"Times New Roman,serif\" font-size=\"14.00\">3^5</text>\r\n",
       "</g>\r\n",
       "<!-- 5&#45;&gt;6 -->\r\n",
       "<g id=\"edge5\" class=\"edge\"><title>5&#45;&gt;6</title>\r\n",
       "<path fill=\"none\" stroke=\"black\" d=\"M31.8472,-1367.39C31.8472,-1354.75 31.8472,-1340.02 31.8472,-1325.92\"/>\r\n",
       "<polygon fill=\"black\" stroke=\"black\" points=\"35.3473,-1325.8 31.8472,-1315.8 28.3473,-1325.8 35.3473,-1325.8\"/>\r\n",
       "<text text-anchor=\"middle\" x=\"45.8472\" y=\"-1337.8\" font-family=\"Times New Roman,serif\" font-size=\"14.00\">push</text>\r\n",
       "</g>\r\n",
       "<!-- 7 -->\r\n",
       "<g id=\"node7\" class=\"node\"><title>7</title>\r\n",
       "<polygon fill=\"none\" stroke=\"black\" points=\"4.84717,-1102.5 4.84717,-1171.5 58.8472,-1171.5 58.8472,-1102.5 4.84717,-1102.5\"/>\r\n",
       "<text text-anchor=\"middle\" x=\"31.8472\" y=\"-1156.3\" font-family=\"Times New Roman,serif\" font-size=\"14.00\">3^2</text>\r\n",
       "<polyline fill=\"none\" stroke=\"black\" points=\"4.84717,-1148.5 58.8472,-1148.5 \"/>\r\n",
       "<text text-anchor=\"middle\" x=\"31.8472\" y=\"-1133.3\" font-family=\"Times New Roman,serif\" font-size=\"14.00\">3^3</text>\r\n",
       "<polyline fill=\"none\" stroke=\"black\" points=\"4.84717,-1125.5 58.8472,-1125.5 \"/>\r\n",
       "<text text-anchor=\"middle\" x=\"31.8472\" y=\"-1110.3\" font-family=\"Times New Roman,serif\" font-size=\"14.00\">3^5</text>\r\n",
       "</g>\r\n",
       "<!-- 6&#45;&gt;7 -->\r\n",
       "<g id=\"edge6\" class=\"edge\"><title>6&#45;&gt;7</title>\r\n",
       "<path fill=\"none\" stroke=\"black\" d=\"M31.8472,-1223.22C31.8472,-1209.86 31.8472,-1195.27 31.8472,-1181.99\"/>\r\n",
       "<polygon fill=\"black\" stroke=\"black\" points=\"35.3473,-1181.67 31.8472,-1171.67 28.3473,-1181.67 35.3473,-1181.67\"/>\r\n",
       "<text text-anchor=\"middle\" x=\"43.3472\" y=\"-1193.8\" font-family=\"Times New Roman,serif\" font-size=\"14.00\">pop</text>\r\n",
       "</g>\r\n",
       "<!-- 8 -->\r\n",
       "<g id=\"node8\" class=\"node\"><title>8</title>\r\n",
       "<polygon fill=\"none\" stroke=\"black\" points=\"4.84717,-1004.5 4.84717,-1050.5 58.8472,-1050.5 58.8472,-1004.5 4.84717,-1004.5\"/>\r\n",
       "<text text-anchor=\"middle\" x=\"31.8472\" y=\"-1035.3\" font-family=\"Times New Roman,serif\" font-size=\"14.00\">3^3</text>\r\n",
       "<polyline fill=\"none\" stroke=\"black\" points=\"4.84717,-1027.5 58.8472,-1027.5 \"/>\r\n",
       "<text text-anchor=\"middle\" x=\"31.8472\" y=\"-1012.3\" font-family=\"Times New Roman,serif\" font-size=\"14.00\">3^5</text>\r\n",
       "</g>\r\n",
       "<!-- 7&#45;&gt;8 -->\r\n",
       "<g id=\"edge7\" class=\"edge\"><title>7&#45;&gt;8</title>\r\n",
       "<path fill=\"none\" stroke=\"black\" d=\"M31.8472,-1102.28C31.8472,-1088.97 31.8472,-1073.74 31.8472,-1060.59\"/>\r\n",
       "<polygon fill=\"black\" stroke=\"black\" points=\"35.3473,-1060.57 31.8472,-1050.57 28.3473,-1060.57 35.3473,-1060.57\"/>\r\n",
       "<text text-anchor=\"middle\" x=\"43.3472\" y=\"-1072.8\" font-family=\"Times New Roman,serif\" font-size=\"14.00\">pop</text>\r\n",
       "</g>\r\n",
       "<!-- 9 -->\r\n",
       "<g id=\"node9\" class=\"node\"><title>9</title>\r\n",
       "<polygon fill=\"none\" stroke=\"black\" points=\"4.84717,-883.5 4.84717,-952.5 58.8472,-952.5 58.8472,-883.5 4.84717,-883.5\"/>\r\n",
       "<text text-anchor=\"middle\" x=\"31.8472\" y=\"-937.3\" font-family=\"Times New Roman,serif\" font-size=\"14.00\">3^1</text>\r\n",
       "<polyline fill=\"none\" stroke=\"black\" points=\"4.84717,-929.5 58.8472,-929.5 \"/>\r\n",
       "<text text-anchor=\"middle\" x=\"31.8472\" y=\"-914.3\" font-family=\"Times New Roman,serif\" font-size=\"14.00\">3^3</text>\r\n",
       "<polyline fill=\"none\" stroke=\"black\" points=\"4.84717,-906.5 58.8472,-906.5 \"/>\r\n",
       "<text text-anchor=\"middle\" x=\"31.8472\" y=\"-891.3\" font-family=\"Times New Roman,serif\" font-size=\"14.00\">3^5</text>\r\n",
       "</g>\r\n",
       "<!-- 8&#45;&gt;9 -->\r\n",
       "<g id=\"edge8\" class=\"edge\"><title>8&#45;&gt;9</title>\r\n",
       "<path fill=\"none\" stroke=\"black\" d=\"M31.8472,-1004.49C31.8472,-992.524 31.8472,-977.295 31.8472,-963.015\"/>\r\n",
       "<polygon fill=\"black\" stroke=\"black\" points=\"35.3473,-962.844 31.8472,-952.844 28.3473,-962.844 35.3473,-962.844\"/>\r\n",
       "<text text-anchor=\"middle\" x=\"45.8472\" y=\"-974.8\" font-family=\"Times New Roman,serif\" font-size=\"14.00\">push</text>\r\n",
       "</g>\r\n",
       "<!-- 10 -->\r\n",
       "<g id=\"node10\" class=\"node\"><title>10</title>\r\n",
       "<polygon fill=\"none\" stroke=\"black\" points=\"4.84717,-785.5 4.84717,-831.5 58.8472,-831.5 58.8472,-785.5 4.84717,-785.5\"/>\r\n",
       "<text text-anchor=\"middle\" x=\"31.8472\" y=\"-816.3\" font-family=\"Times New Roman,serif\" font-size=\"14.00\">3^3</text>\r\n",
       "<polyline fill=\"none\" stroke=\"black\" points=\"4.84717,-808.5 58.8472,-808.5 \"/>\r\n",
       "<text text-anchor=\"middle\" x=\"31.8472\" y=\"-793.3\" font-family=\"Times New Roman,serif\" font-size=\"14.00\">3^5</text>\r\n",
       "</g>\r\n",
       "<!-- 9&#45;&gt;10 -->\r\n",
       "<g id=\"edge9\" class=\"edge\"><title>9&#45;&gt;10</title>\r\n",
       "<path fill=\"none\" stroke=\"black\" d=\"M31.8472,-883.281C31.8472,-869.969 31.8472,-854.743 31.8472,-841.594\"/>\r\n",
       "<polygon fill=\"black\" stroke=\"black\" points=\"35.3473,-841.569 31.8472,-831.57 28.3473,-841.57 35.3473,-841.569\"/>\r\n",
       "<text text-anchor=\"middle\" x=\"43.3472\" y=\"-853.8\" font-family=\"Times New Roman,serif\" font-size=\"14.00\">pop</text>\r\n",
       "</g>\r\n",
       "<!-- 11 -->\r\n",
       "<g id=\"node11\" class=\"node\"><title>11</title>\r\n",
       "<polygon fill=\"none\" stroke=\"black\" points=\"4.84717,-697.5 4.84717,-733.5 58.8472,-733.5 58.8472,-697.5 4.84717,-697.5\"/>\r\n",
       "<text text-anchor=\"middle\" x=\"31.8472\" y=\"-711.8\" font-family=\"Times New Roman,serif\" font-size=\"14.00\">3^5</text>\r\n",
       "</g>\r\n",
       "<!-- 10&#45;&gt;11 -->\r\n",
       "<g id=\"edge10\" class=\"edge\"><title>10&#45;&gt;11</title>\r\n",
       "<path fill=\"none\" stroke=\"black\" d=\"M31.8472,-785.471C31.8472,-772.937 31.8472,-757.129 31.8472,-743.811\"/>\r\n",
       "<polygon fill=\"black\" stroke=\"black\" points=\"35.3473,-743.774 31.8472,-733.774 28.3473,-743.774 35.3473,-743.774\"/>\r\n",
       "<text text-anchor=\"middle\" x=\"43.3472\" y=\"-755.8\" font-family=\"Times New Roman,serif\" font-size=\"14.00\">pop</text>\r\n",
       "</g>\r\n",
       "<!-- 12 -->\r\n",
       "<g id=\"node12\" class=\"node\"><title>12</title>\r\n",
       "<polygon fill=\"none\" stroke=\"black\" points=\"4.84717,-599.5 4.84717,-645.5 58.8472,-645.5 58.8472,-599.5 4.84717,-599.5\"/>\r\n",
       "<text text-anchor=\"middle\" x=\"31.8472\" y=\"-630.3\" font-family=\"Times New Roman,serif\" font-size=\"14.00\">3^2</text>\r\n",
       "<polyline fill=\"none\" stroke=\"black\" points=\"4.84717,-622.5 58.8472,-622.5 \"/>\r\n",
       "<text text-anchor=\"middle\" x=\"31.8472\" y=\"-607.3\" font-family=\"Times New Roman,serif\" font-size=\"14.00\">3^5</text>\r\n",
       "</g>\r\n",
       "<!-- 11&#45;&gt;12 -->\r\n",
       "<g id=\"edge11\" class=\"edge\"><title>11&#45;&gt;12</title>\r\n",
       "<path fill=\"none\" stroke=\"black\" d=\"M31.8472,-697.384C31.8472,-685.732 31.8472,-669.945 31.8472,-655.956\"/>\r\n",
       "<polygon fill=\"black\" stroke=\"black\" points=\"35.3473,-655.707 31.8472,-645.707 28.3473,-655.707 35.3473,-655.707\"/>\r\n",
       "<text text-anchor=\"middle\" x=\"45.8472\" y=\"-667.8\" font-family=\"Times New Roman,serif\" font-size=\"14.00\">push</text>\r\n",
       "</g>\r\n",
       "<!-- 13 -->\r\n",
       "<g id=\"node13\" class=\"node\"><title>13</title>\r\n",
       "<polygon fill=\"none\" stroke=\"black\" points=\"4.84717,-478.5 4.84717,-547.5 58.8472,-547.5 58.8472,-478.5 4.84717,-478.5\"/>\r\n",
       "<text text-anchor=\"middle\" x=\"31.8472\" y=\"-532.3\" font-family=\"Times New Roman,serif\" font-size=\"14.00\">3^1</text>\r\n",
       "<polyline fill=\"none\" stroke=\"black\" points=\"4.84717,-524.5 58.8472,-524.5 \"/>\r\n",
       "<text text-anchor=\"middle\" x=\"31.8472\" y=\"-509.3\" font-family=\"Times New Roman,serif\" font-size=\"14.00\">3^2</text>\r\n",
       "<polyline fill=\"none\" stroke=\"black\" points=\"4.84717,-501.5 58.8472,-501.5 \"/>\r\n",
       "<text text-anchor=\"middle\" x=\"31.8472\" y=\"-486.3\" font-family=\"Times New Roman,serif\" font-size=\"14.00\">3^5</text>\r\n",
       "</g>\r\n",
       "<!-- 12&#45;&gt;13 -->\r\n",
       "<g id=\"edge12\" class=\"edge\"><title>12&#45;&gt;13</title>\r\n",
       "<path fill=\"none\" stroke=\"black\" d=\"M31.8472,-599.486C31.8472,-587.524 31.8472,-572.295 31.8472,-558.015\"/>\r\n",
       "<polygon fill=\"black\" stroke=\"black\" points=\"35.3473,-557.844 31.8472,-547.844 28.3473,-557.844 35.3473,-557.844\"/>\r\n",
       "<text text-anchor=\"middle\" x=\"45.8472\" y=\"-569.8\" font-family=\"Times New Roman,serif\" font-size=\"14.00\">push</text>\r\n",
       "</g>\r\n",
       "<!-- 14 -->\r\n",
       "<g id=\"node14\" class=\"node\"><title>14</title>\r\n",
       "<polygon fill=\"none\" stroke=\"black\" points=\"4.84717,-380.5 4.84717,-426.5 58.8472,-426.5 58.8472,-380.5 4.84717,-380.5\"/>\r\n",
       "<text text-anchor=\"middle\" x=\"31.8472\" y=\"-411.3\" font-family=\"Times New Roman,serif\" font-size=\"14.00\">3^2</text>\r\n",
       "<polyline fill=\"none\" stroke=\"black\" points=\"4.84717,-403.5 58.8472,-403.5 \"/>\r\n",
       "<text text-anchor=\"middle\" x=\"31.8472\" y=\"-388.3\" font-family=\"Times New Roman,serif\" font-size=\"14.00\">3^5</text>\r\n",
       "</g>\r\n",
       "<!-- 13&#45;&gt;14 -->\r\n",
       "<g id=\"edge13\" class=\"edge\"><title>13&#45;&gt;14</title>\r\n",
       "<path fill=\"none\" stroke=\"black\" d=\"M31.8472,-478.281C31.8472,-464.969 31.8472,-449.743 31.8472,-436.594\"/>\r\n",
       "<polygon fill=\"black\" stroke=\"black\" points=\"35.3473,-436.569 31.8472,-426.57 28.3473,-436.57 35.3473,-436.569\"/>\r\n",
       "<text text-anchor=\"middle\" x=\"43.3472\" y=\"-448.8\" font-family=\"Times New Roman,serif\" font-size=\"14.00\">pop</text>\r\n",
       "</g>\r\n",
       "<!-- 15 -->\r\n",
       "<g id=\"node15\" class=\"node\"><title>15</title>\r\n",
       "<polygon fill=\"none\" stroke=\"black\" points=\"4.84717,-259.5 4.84717,-328.5 58.8472,-328.5 58.8472,-259.5 4.84717,-259.5\"/>\r\n",
       "<text text-anchor=\"middle\" x=\"31.8472\" y=\"-313.3\" font-family=\"Times New Roman,serif\" font-size=\"14.00\">3^1</text>\r\n",
       "<polyline fill=\"none\" stroke=\"black\" points=\"4.84717,-305.5 58.8472,-305.5 \"/>\r\n",
       "<text text-anchor=\"middle\" x=\"31.8472\" y=\"-290.3\" font-family=\"Times New Roman,serif\" font-size=\"14.00\">3^2</text>\r\n",
       "<polyline fill=\"none\" stroke=\"black\" points=\"4.84717,-282.5 58.8472,-282.5 \"/>\r\n",
       "<text text-anchor=\"middle\" x=\"31.8472\" y=\"-267.3\" font-family=\"Times New Roman,serif\" font-size=\"14.00\">3^5</text>\r\n",
       "</g>\r\n",
       "<!-- 14&#45;&gt;15 -->\r\n",
       "<g id=\"edge14\" class=\"edge\"><title>14&#45;&gt;15</title>\r\n",
       "<path fill=\"none\" stroke=\"black\" d=\"M31.8472,-380.486C31.8472,-368.524 31.8472,-353.295 31.8472,-339.015\"/>\r\n",
       "<polygon fill=\"black\" stroke=\"black\" points=\"35.3473,-338.844 31.8472,-328.844 28.3473,-338.844 35.3473,-338.844\"/>\r\n",
       "<text text-anchor=\"middle\" x=\"45.8472\" y=\"-350.8\" font-family=\"Times New Roman,serif\" font-size=\"14.00\">push</text>\r\n",
       "</g>\r\n",
       "<!-- 16 -->\r\n",
       "<g id=\"node16\" class=\"node\"><title>16</title>\r\n",
       "<polygon fill=\"none\" stroke=\"black\" points=\"4.84717,-161.5 4.84717,-207.5 58.8472,-207.5 58.8472,-161.5 4.84717,-161.5\"/>\r\n",
       "<text text-anchor=\"middle\" x=\"31.8472\" y=\"-192.3\" font-family=\"Times New Roman,serif\" font-size=\"14.00\">3^2</text>\r\n",
       "<polyline fill=\"none\" stroke=\"black\" points=\"4.84717,-184.5 58.8472,-184.5 \"/>\r\n",
       "<text text-anchor=\"middle\" x=\"31.8472\" y=\"-169.3\" font-family=\"Times New Roman,serif\" font-size=\"14.00\">3^5</text>\r\n",
       "</g>\r\n",
       "<!-- 15&#45;&gt;16 -->\r\n",
       "<g id=\"edge15\" class=\"edge\"><title>15&#45;&gt;16</title>\r\n",
       "<path fill=\"none\" stroke=\"black\" d=\"M31.8472,-259.281C31.8472,-245.969 31.8472,-230.743 31.8472,-217.594\"/>\r\n",
       "<polygon fill=\"black\" stroke=\"black\" points=\"35.3473,-217.569 31.8472,-207.57 28.3473,-217.57 35.3473,-217.569\"/>\r\n",
       "<text text-anchor=\"middle\" x=\"43.3472\" y=\"-229.8\" font-family=\"Times New Roman,serif\" font-size=\"14.00\">pop</text>\r\n",
       "</g>\r\n",
       "<!-- 17 -->\r\n",
       "<g id=\"node17\" class=\"node\"><title>17</title>\r\n",
       "<polygon fill=\"none\" stroke=\"black\" points=\"4.84717,-73.5 4.84717,-109.5 58.8472,-109.5 58.8472,-73.5 4.84717,-73.5\"/>\r\n",
       "<text text-anchor=\"middle\" x=\"31.8472\" y=\"-87.8\" font-family=\"Times New Roman,serif\" font-size=\"14.00\">3^5</text>\r\n",
       "</g>\r\n",
       "<!-- 16&#45;&gt;17 -->\r\n",
       "<g id=\"edge16\" class=\"edge\"><title>16&#45;&gt;17</title>\r\n",
       "<path fill=\"none\" stroke=\"black\" d=\"M31.8472,-161.471C31.8472,-148.937 31.8472,-133.129 31.8472,-119.811\"/>\r\n",
       "<polygon fill=\"black\" stroke=\"black\" points=\"35.3473,-119.774 31.8472,-109.774 28.3473,-119.774 35.3473,-119.774\"/>\r\n",
       "<text text-anchor=\"middle\" x=\"43.3472\" y=\"-131.8\" font-family=\"Times New Roman,serif\" font-size=\"14.00\">pop</text>\r\n",
       "</g>\r\n",
       "<!-- return -->\r\n",
       "<g id=\"node18\" class=\"node\"><title>return</title>\r\n",
       "<ellipse fill=\"none\" stroke=\"black\" cx=\"31.8472\" cy=\"-18\" rx=\"31.6951\" ry=\"18\"/>\r\n",
       "<text text-anchor=\"middle\" x=\"31.8472\" y=\"-14.3\" font-family=\"Times New Roman,serif\" font-size=\"14.00\">return</text>\r\n",
       "</g>\r\n",
       "<!-- 17&#45;&gt;return -->\r\n",
       "<g id=\"edge17\" class=\"edge\"><title>17&#45;&gt;return</title>\r\n",
       "<path fill=\"none\" stroke=\"black\" d=\"M31.8472,-73.1918C31.8472,-65.112 31.8472,-55.3014 31.8472,-46.2598\"/>\r\n",
       "<polygon fill=\"black\" stroke=\"black\" points=\"35.3473,-46.1487 31.8472,-36.1488 28.3473,-46.1488 35.3473,-46.1487\"/>\r\n",
       "</g>\r\n",
       "</g>\r\n",
       "</svg>\r\n"
      ],
      "text/plain": [
       "<graphviz.dot.Digraph at 0x21e330eec08>"
      ]
     },
     "metadata": {},
     "output_type": "display_data"
    }
   ],
   "source": [
    "dot = Digraph()\n",
    "\n",
    "dot.node('1', \"3^5\",shape='record')\n",
    "dot.node('2', \"{3^3 | 3^5}\",shape='record')\n",
    "dot.node('3', \"{3^2 |3^3 | 3^5}\",shape='record')\n",
    "dot.node('4', \"{3^1 |3^2 |3^3 | 3^5}\",shape='record')\n",
    "dot.node('5', \"{3^2 |3^3 | 3^5}\",shape='record')\n",
    "dot.node('6', \"{3^1 |3^2 |3^3 | 3^5}\",shape='record')\n",
    "dot.node('7', \"{3^2 |3^3 | 3^5}\",shape='record')\n",
    "dot.node('8', \"{3^3 | 3^5}\",shape='record')\n",
    "dot.node('9', \"{3^1 |3^3 | 3^5}\",shape='record')\n",
    "dot.node('10', \"{3^3 | 3^5}\",shape='record')\n",
    "dot.node('11', \"3^5\",shape='record')\n",
    "dot.node('12', \"{3^2 | 3^5}\",shape='record')\n",
    "dot.node('13', \"{3^1 | 3^2 | 3^5}\",shape='record')\n",
    "dot.node('14', \"{3^2 | 3^5}\",shape='record')\n",
    "dot.node('15', \"{3^1 | 3^2 | 3^5}\",shape='record')\n",
    "dot.node('16', \"{3^2 | 3^5}\",shape='record')\n",
    "dot.node('17', \"{3^5}\",shape='record')\n",
    "\n",
    "dot.node(\"return\")\n",
    "\n",
    "dot.edge('1','2',label=\"push\")\n",
    "dot.edge('2','3',label=\"push\")\n",
    "dot.edge('3','4',label=\"push\")\n",
    "dot.edge('4','5',label=\"pop\")\n",
    "dot.edge('5','6',label=\"push\")\n",
    "dot.edge('6','7',label=\"pop\")\n",
    "dot.edge('7','8',label=\"pop\")\n",
    "dot.edge('8','9',label=\"push\")\n",
    "dot.edge('9','10',label=\"pop\")\n",
    "dot.edge('10','11',label=\"pop\")\n",
    "dot.edge('11','12',label=\"push\")\n",
    "dot.edge('12','13',label=\"push\")\n",
    "dot.edge('13','14',label=\"pop\")\n",
    "dot.edge('14','15',label=\"push\")\n",
    "dot.edge('15','16',label=\"pop\")\n",
    "dot.edge('16','17',label=\"pop\")\n",
    "\n",
    "dot.edge('17','return')\n",
    "\n",
    "\n",
    "display(dot)"
   ]
  },
  {
   "cell_type": "markdown",
   "metadata": {},
   "source": [
    "The stack will only get as deep as the deepest leaf in both trees -- the Divide and Conquer and the Decrease-by-1-and-Conquer.\n",
    "- The Decrease-by-1-and-Conquer necessarily has $O(n)$, linear height.\n",
    "- The Divide and Conquer will be approximately $O(log_2 n)$ in height because \n",
    "    - The subproblems are approximately half the size of the original problem, recursively.\n",
    "    - (in single-threaded code) Only one subproblem needs to be explored at a time, again recursively."
   ]
  },
  {
   "cell_type": "markdown",
   "metadata": {},
   "source": [
    "But, that's not really the interesting part about this. There is something that will make a dramatic difference:\n",
    "\n",
    "> There are repeated subproblems.\n",
    "\n",
    "e.g. $3^{101}$ is $3^{101}$ no matter how you calculate it so one *could* remember the solutions. \n",
    "\n",
    "There is another, probably new-to-you, technique called **memoization**, which can be used for certain strategies like Dynamic Programming.\n",
    "\n",
    "So, somewhat absurdly, we're going to use a Hash Table which has *average*, expected time (under reasonable assumptions) \n",
    "- $O(1)$ insertions, per insertion\n",
    "- $O(1)$ lookup/search, per search\n",
    "- $O(1)$ deletion, though we won't use that here\n",
    "- A hash table is a common *implementation* of the Dictionary *Abstract Data Type (ADT)*.\n",
    "\n",
    "This is \"absurd\" because this is \n",
    "1. massive overkill for this problem\n",
    "1. exponention for any numbers not really close to $1$ will likely overflow or vanish unless using arbitrary precision numbers"
   ]
  },
  {
   "cell_type": "code",
   "execution_count": 217,
   "metadata": {},
   "outputs": [],
   "source": [
    "def memoized_exponentiation(a, p):\n",
    "    \"\"\"\n",
    "    memoized approach to exponentiation\n",
    "    a -- the number being raised to a power\n",
    "    p -- the non-negative, integral power a is being raised to\n",
    "    \"\"\"\n",
    "    pows = {}\n",
    "    #insert base cases\n",
    "    pows[0] = 1\n",
    "    pows[1] = a\n",
    "\n",
    "    def m_e_helper(a,p):\n",
    "        \"\"\"\n",
    "        helper, inner/nested function\n",
    "        uses divide an conquer approach but looks up to see if previous values have been calculated\n",
    "        a -- the number being raised to a power\n",
    "        p -- the non-negative, integral power a is being raised to\n",
    "        \"\"\"\n",
    "        if p in pows:\n",
    "            print_no_nl(str(a)+\"^\"+str(p))\n",
    "            return pows[p]\n",
    "        elif p > 1:\n",
    "            print_no_nl(\"(\")\n",
    "            a_to_ceiling_half_p = m_e_helper(a,math.ceil(p/2))\n",
    "            print_no_nl(\")*(\")\n",
    "            a_to_floor_half_p = m_e_helper(a,math.floor(p/2))\n",
    "            print_no_nl(\")\")\n",
    "            power = a_to_ceiling_half_p * a_to_floor_half_p\n",
    "            pows[p] = power #remember/store the solution\n",
    "            return power\n",
    "        else:         \n",
    "            raise Exception(\"p must be integral and nonnegative\")\n",
    "    return m_e_helper( a, p)\n"
   ]
  },
  {
   "cell_type": "code",
   "execution_count": 218,
   "metadata": {},
   "outputs": [
    {
     "name": "stdout",
     "output_type": "stream",
     "text": [
      "((3^1)*(3^1))*(3^2)"
     ]
    },
    {
     "data": {
      "text/plain": [
       "81"
      ]
     },
     "execution_count": 218,
     "metadata": {},
     "output_type": "execute_result"
    }
   ],
   "source": [
    "memoized_exponentiation(3,4)"
   ]
  },
  {
   "cell_type": "code",
   "execution_count": 219,
   "metadata": {},
   "outputs": [
    {
     "name": "stdout",
     "output_type": "stream",
     "text": [
      "((((3^1)*(3^1))*(3^2))*(3^4))*(3^8)"
     ]
    },
    {
     "data": {
      "text/plain": [
       "43046721"
      ]
     },
     "execution_count": 219,
     "metadata": {},
     "output_type": "execute_result"
    }
   ],
   "source": [
    "memoized_exponentiation(3,16)"
   ]
  },
  {
   "cell_type": "code",
   "execution_count": 220,
   "metadata": {},
   "outputs": [
    {
     "name": "stdout",
     "output_type": "stream",
     "text": [
      "(((((3^1)*(3^1))*(3^2))*((3^2)*(3^1)))*((3^3)*(3^3)))*((3^6)*(3^6))"
     ]
    },
    {
     "data": {
      "text/plain": [
       "847288609443"
      ]
     },
     "execution_count": 220,
     "metadata": {},
     "output_type": "execute_result"
    }
   ],
   "source": [
    "memoized_exponentiation(3,25)"
   ]
  },
  {
   "cell_type": "markdown",
   "metadata": {},
   "source": [
    "For comparison:"
   ]
  },
  {
   "cell_type": "code",
   "execution_count": 221,
   "metadata": {},
   "outputs": [
    {
     "name": "stdout",
     "output_type": "stream",
     "text": [
      "(((((3)*(3))*((3)*(3)))*(((3)*(3))*(3)))*((((3)*(3))*(3))*(((3)*(3))*(3))))*(((((3)*(3))*(3))*(((3)*(3))*(3)))*((((3)*(3))*(3))*(((3)*(3))*(3))))"
     ]
    },
    {
     "data": {
      "text/plain": [
       "847288609443"
      ]
     },
     "execution_count": 221,
     "metadata": {},
     "output_type": "execute_result"
    }
   ],
   "source": [
    "divide_and_conq_exponentiation(3,25)"
   ]
  },
  {
   "cell_type": "markdown",
   "metadata": {},
   "source": [
    "Wonder what the worst case is? Something like \n",
    "\n",
    "$p = (((((1+2)+4)+8)+16)+32)$\n",
    "\n",
    "perhaps?\n"
   ]
  },
  {
   "cell_type": "code",
   "execution_count": 222,
   "metadata": {},
   "outputs": [
    {
     "name": "stdout",
     "output_type": "stream",
     "text": [
      "((((((3^1)*(3^1))*(3^2))*(3^4))*(3^8))*(3^16))*((3^16)*((3^8)*((3^4)*((3^2)*(3^1)))))"
     ]
    },
    {
     "data": {
      "text/plain": [
       "1144561273430837494885949696427"
      ]
     },
     "execution_count": 222,
     "metadata": {},
     "output_type": "execute_result"
    }
   ],
   "source": [
    "memoized_exponentiation(3,63)"
   ]
  },
  {
   "cell_type": "code",
   "execution_count": 223,
   "metadata": {},
   "outputs": [
    {
     "name": "stdout",
     "output_type": "stream",
     "text": [
      "((((((3^1)*(3^1))*(3^2))*(3^4))*(3^8))*(3^16))*(3^32)"
     ]
    },
    {
     "data": {
      "text/plain": [
       "3433683820292512484657849089281"
      ]
     },
     "execution_count": 223,
     "metadata": {},
     "output_type": "execute_result"
    }
   ],
   "source": [
    "memoized_exponentiation(3,64)"
   ]
  },
  {
   "cell_type": "markdown",
   "metadata": {},
   "source": [
    "We finally got some sort of *time* gains for this problem at the expense of a memory space, though I think the analysis is too tricky for now.\n",
    "\n",
    "This is also an example of a space-time tradeoff -- we can fairly often gain something by precomputing or remembering *something* to solve a problem. "
   ]
  },
  {
   "cell_type": "markdown",
   "metadata": {},
   "source": [
    "We can keep tearing at this problem and notice one more thing, probably from the Divide and Conquer approach, but maybe from the memoized approach as well:\n",
    "\n",
    "> The subproblems for odd number problem powers differ exactly by the factor $a$, the base/number being exponentiated, while even power solutions to subproblems are the same."
   ]
  },
  {
   "cell_type": "markdown",
   "metadata": {},
   "source": [
    "## Decrease-by-a-Constant-*Factor*-and-Conquer Approach\n",
    "The factor here is $2$, halving the problem size. \n",
    "\n",
    "We will write it similarly, in a general piecewise function form like Divide and Conquer, above:\n",
    "\n",
    "$a^p = \\begin{cases} a\\times (a^{\\lfloor \\frac{p}{2} \\rfloor})^2 & p>1\\text{ and p is odd} \\\\ a\\times (a^{ \\frac{p}{2} })^2 & p>1\\text{ and p is even} \\\\ a & p =1 \\\\ 1 &p =0 \\end{cases} $"
   ]
  },
  {
   "cell_type": "code",
   "execution_count": 224,
   "metadata": {},
   "outputs": [],
   "source": [
    "def dec_by_half_exponentiation(a,p):\n",
    "    \"\"\"\n",
    "    Decrease by a HALF approach to exponentiation\n",
    "    a -- the number being raised to a power\n",
    "    p -- the non-negative, integral power a is being raised to\n",
    "    \"\"\"\n",
    "    if p > 1 and p%2 == 0:\n",
    "        print_no_nl(\"(\")\n",
    "        a_to_half_p = dec_by_half_exponentiation(a,p//2) # // is integral division, / is floating point\n",
    "        print_no_nl(\")^2\")\n",
    "        return a_to_half_p * a_to_half_p\n",
    "    if p > 1 and p%2 == 1:\n",
    "        print_no_nl(\"a*(\")\n",
    "        a_to_half_p = dec_by_half_exponentiation(a,p//2) # // is integral division, / is floating point\n",
    "        print_no_nl(\")^2\")\n",
    "        return a*a_to_half_p * a_to_half_p\n",
    "    elif p == 1:\n",
    "        print_no_nl(a)\n",
    "        return a\n",
    "    elif p == 0:\n",
    "        print_no_nl(1)\n",
    "        return 1\n",
    "    else:         \n",
    "        raise Exception(\"p must be integral and nonnegative\")"
   ]
  },
  {
   "cell_type": "code",
   "execution_count": 225,
   "metadata": {},
   "outputs": [
    {
     "name": "stdout",
     "output_type": "stream",
     "text": [
      "((3)^2)^2"
     ]
    },
    {
     "data": {
      "text/plain": [
       "81"
      ]
     },
     "execution_count": 225,
     "metadata": {},
     "output_type": "execute_result"
    }
   ],
   "source": [
    "dec_by_half_exponentiation(3,4)"
   ]
  },
  {
   "cell_type": "code",
   "execution_count": 226,
   "metadata": {},
   "outputs": [
    {
     "name": "stdout",
     "output_type": "stream",
     "text": [
      "a*((a*(((a*(3)^2)^2)^2)^2)^2)^2"
     ]
    },
    {
     "data": {
      "text/plain": [
       "1546132562196033993109383389296863818106322566003"
      ]
     },
     "execution_count": 226,
     "metadata": {},
     "output_type": "execute_result"
    }
   ],
   "source": [
    "dec_by_half_exponentiation(3,101)"
   ]
  },
  {
   "cell_type": "markdown",
   "metadata": {},
   "source": [
    "Note: Squaring is just a single multiply"
   ]
  },
  {
   "cell_type": "code",
   "execution_count": 227,
   "metadata": {},
   "outputs": [
    {
     "name": "stdout",
     "output_type": "stream",
     "text": [
      "a*(a*(a*(a*(a*(3)^2)^2)^2)^2)^2"
     ]
    },
    {
     "data": {
      "text/plain": [
       "1144561273430837494885949696427"
      ]
     },
     "execution_count": 227,
     "metadata": {},
     "output_type": "execute_result"
    }
   ],
   "source": [
    "dec_by_half_exponentiation(3,63)"
   ]
  },
  {
   "cell_type": "markdown",
   "metadata": {},
   "source": [
    "Which suggests a worst case: any power of two minus $1$, often written as\n",
    "\n",
    "$n = 2^k-1, k \\in \\mathbb{N}$"
   ]
  },
  {
   "cell_type": "markdown",
   "metadata": {},
   "source": [
    "There are other approaches too. If you think of the binary representation of a number such as \n",
    "\n",
    "$27_{10}$\n",
    "\n",
    "the number string \"27\" in base-10 as \n",
    "\n",
    "$11011_2$\n",
    "\n",
    "and if you were paying attention in grade school and understand __[positional notation](https://en.wikipedia.org/wiki/Positional_notation)__ then you get that\n",
    "\n",
    "$27_{10}= 2*10^1+7*10^0$\n",
    "\n",
    "or, in binary\n",
    "\n",
    "$11011_2 = 1\\times2^4+1\\times2^3+0\\times2^2+1\\times2^1+1\\times2^0$\n",
    "\n",
    "you might, after figuring out that, e.g.,\n",
    "\n",
    "$4^{27}=4^{16+8+2+1}=4^{16}\\times4^8\\times4^2\\times4^1$\n",
    "\n",
    "come up with"
   ]
  },
  {
   "cell_type": "code",
   "execution_count": 228,
   "metadata": {},
   "outputs": [],
   "source": [
    "def binary_repr_exponentiation(a,p):\n",
    "    if p <= 0 or type(p) is not int:\n",
    "        raise Exception(\"p must be int and nonnegative\")\n",
    "    if p == 0:\n",
    "        return 1\n",
    "    if a == 0:\n",
    "        return 0  # 0^0 is an odd case...\n",
    "    acc = 1\n",
    "    print_no_nl(acc)\n",
    "    p_pow = a\n",
    "    while p > 0:\n",
    "        if p%2 == 1:\n",
    "            acc *= p_pow\n",
    "            print_no_nl('*'+str(p_pow))\n",
    "        p_pow *= p_pow # square to get next binary power (ones,twos,fours,eights,...-places)\n",
    "        p = p//2\n",
    "    return acc"
   ]
  },
  {
   "cell_type": "code",
   "execution_count": 229,
   "metadata": {},
   "outputs": [
    {
     "name": "stdout",
     "output_type": "stream",
     "text": [
      "1*81"
     ]
    },
    {
     "data": {
      "text/plain": [
       "81"
      ]
     },
     "execution_count": 229,
     "metadata": {},
     "output_type": "execute_result"
    }
   ],
   "source": [
    "binary_repr_exponentiation(3,4)"
   ]
  },
  {
   "cell_type": "code",
   "execution_count": 230,
   "metadata": {},
   "outputs": [
    {
     "name": "stdout",
     "output_type": "stream",
     "text": [
      "1*3*9"
     ]
    },
    {
     "data": {
      "text/plain": [
       "27"
      ]
     },
     "execution_count": 230,
     "metadata": {},
     "output_type": "execute_result"
    }
   ],
   "source": [
    "binary_repr_exponentiation(3,3)"
   ]
  },
  {
   "cell_type": "code",
   "execution_count": 231,
   "metadata": {},
   "outputs": [
    {
     "name": "stdout",
     "output_type": "stream",
     "text": [
      "1*3*9*81"
     ]
    },
    {
     "data": {
      "text/plain": [
       "2187"
      ]
     },
     "execution_count": 231,
     "metadata": {},
     "output_type": "execute_result"
    }
   ],
   "source": [
    "binary_repr_exponentiation(3,7)"
   ]
  },
  {
   "cell_type": "code",
   "execution_count": 232,
   "metadata": {},
   "outputs": [
    {
     "name": "stdout",
     "output_type": "stream",
     "text": [
      "1*6561"
     ]
    },
    {
     "data": {
      "text/plain": [
       "6561"
      ]
     },
     "execution_count": 232,
     "metadata": {},
     "output_type": "execute_result"
    }
   ],
   "source": [
    "binary_repr_exponentiation(3,8)"
   ]
  },
  {
   "cell_type": "code",
   "execution_count": 233,
   "metadata": {},
   "outputs": [
    {
     "data": {
      "text/plain": [
       "6561.0"
      ]
     },
     "execution_count": 233,
     "metadata": {},
     "output_type": "execute_result"
    }
   ],
   "source": [
    "math.pow(3,8)"
   ]
  },
  {
   "cell_type": "markdown",
   "metadata": {},
   "source": [
    "One could even build a table and quickly compute powers for a given base $a$..."
   ]
  },
  {
   "cell_type": "code",
   "execution_count": null,
   "metadata": {},
   "outputs": [],
   "source": []
  }
 ],
 "metadata": {
  "kernelspec": {
   "display_name": "Python 3",
   "language": "python",
   "name": "python3"
  },
  "language_info": {
   "codemirror_mode": {
    "name": "ipython",
    "version": 3
   },
   "file_extension": ".py",
   "mimetype": "text/x-python",
   "name": "python",
   "nbconvert_exporter": "python",
   "pygments_lexer": "ipython3",
   "version": "3.7.4"
  }
 },
 "nbformat": 4,
 "nbformat_minor": 2
}
